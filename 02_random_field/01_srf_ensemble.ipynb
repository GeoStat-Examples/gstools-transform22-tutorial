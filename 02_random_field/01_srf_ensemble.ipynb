{
 "cells": [
  {
   "cell_type": "code",
   "execution_count": null,
   "metadata": {
    "jupyter": {
     "source_hidden": true
    },
    "tags": []
   },
   "outputs": [],
   "source": [
    "%matplotlib widget\n",
    "import matplotlib.pyplot as plt\n",
    "plt.ioff()\n",
    "# turn of warnings\n",
    "import warnings\n",
    "warnings.filterwarnings('ignore')"
   ]
  },
  {
   "cell_type": "markdown",
   "metadata": {},
   "source": [
    "\n",
    "# Creating an Ensemble of Fields\n",
    "\n",
    "Creating an ensemble of random fields would also be\n",
    "a great idea. Let's reuse most of the previous code.\n",
    "\n",
    "We will set the position tuple `pos` before generation to reuse it afterwards.\n"
   ]
  },
  {
   "cell_type": "code",
   "execution_count": null,
   "metadata": {
    "collapsed": false,
    "jupyter": {
     "outputs_hidden": false
    }
   },
   "outputs": [],
   "source": [
    "import numpy as np\n",
    "import gstools as gs\n",
    "\n",
    "x = y = np.arange(100)\n",
    "\n",
    "model = gs.Gaussian(dim=2, var=1, len_scale=10)\n",
    "srf = gs.SRF(model)\n",
    "srf.set_pos([x, y], \"structured\")"
   ]
  },
  {
   "cell_type": "markdown",
   "metadata": {},
   "source": [
    "This time, we did not provide a seed to `SRF`, as the seeds will used\n",
    "during the actual computation of the fields. We will create four ensemble\n",
    "members, for better visualisation, save them in to srf class and in a first\n",
    "step, we will be using the loop counter as the seeds.\n",
    "\n"
   ]
  },
  {
   "cell_type": "code",
   "execution_count": null,
   "metadata": {
    "collapsed": false,
    "jupyter": {
     "outputs_hidden": false
    }
   },
   "outputs": [],
   "source": [
    "ens_no = 4\n",
    "for i in range(ens_no):\n",
    "    srf(seed=i, store=f\"field{i}\")"
   ]
  },
  {
   "cell_type": "markdown",
   "metadata": {},
   "source": [
    "Now let's have a look at the results. We can access the fields by name or\n",
    "index:\n",
    "\n"
   ]
  },
  {
   "cell_type": "code",
   "execution_count": null,
   "metadata": {
    "collapsed": false,
    "jupyter": {
     "outputs_hidden": false
    }
   },
   "outputs": [],
   "source": [
    "fig, ax = plt.subplots(2, 2, sharex=True, sharey=True)\n",
    "ax = ax.flatten()\n",
    "for i in range(ens_no):\n",
    "    ax[i].imshow(srf[i].T, origin=\"lower\")\n",
    "plt.show()"
   ]
  },
  {
   "cell_type": "markdown",
   "metadata": {},
   "source": [
    "## Using better Seeds\n",
    "\n",
    "It is not always a good idea to use incrementing seeds. Therefore GSTools\n",
    "provides a seed generator `MasterRNG`. The loop, in which the fields are\n",
    "generated would then look like\n",
    "\n"
   ]
  },
  {
   "cell_type": "code",
   "execution_count": null,
   "metadata": {
    "collapsed": false,
    "jupyter": {
     "outputs_hidden": false
    }
   },
   "outputs": [],
   "source": [
    "from gstools.random import MasterRNG\n",
    "\n",
    "seed = MasterRNG(20220425)\n",
    "for i in range(ens_no):\n",
    "    srf(seed=seed(), store=f\"better_field{i}\")\n",
    "\n",
    "fig, ax = plt.subplots(2, 2, sharex=True, sharey=True)\n",
    "ax = ax.flatten()\n",
    "for i in range(ens_no):\n",
    "    ax[i].imshow(srf[f\"better_field{i}\"].T, origin=\"lower\")\n",
    "plt.show()"
   ]
  },
  {
   "cell_type": "code",
   "execution_count": null,
   "metadata": {},
   "outputs": [],
   "source": [
    "srf.field_names"
   ]
  }
 ],
 "metadata": {
  "kernelspec": {
   "display_name": "Python 3 (ipykernel)",
   "language": "python",
   "name": "python3"
  },
  "language_info": {
   "codemirror_mode": {
    "name": "ipython",
    "version": 3
   },
   "file_extension": ".py",
   "mimetype": "text/x-python",
   "name": "python",
   "nbconvert_exporter": "python",
   "pygments_lexer": "ipython3",
   "version": "3.9.12"
  }
 },
 "nbformat": 4,
 "nbformat_minor": 4
}
