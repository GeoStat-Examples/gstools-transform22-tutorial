{
 "cells": [
  {
   "cell_type": "code",
   "execution_count": null,
   "metadata": {
    "collapsed": false,
    "jupyter": {
     "outputs_hidden": false
    }
   },
   "outputs": [],
   "source": [
    "%matplotlib widget\n",
    "import matplotlib.pyplot as plt\n",
    "plt.ioff()\n",
    "# turn of warnings\n",
    "import warnings\n",
    "warnings.filterwarnings('ignore')"
   ]
  },
  {
   "cell_type": "markdown",
   "metadata": {},
   "source": [
    "\n",
    "# Merging two Fields\n",
    "\n",
    "We can even generate the same field realisation on different grids. Let's try\n",
    "to merge two unstructured rectangular fields.\n"
   ]
  },
  {
   "cell_type": "code",
   "execution_count": null,
   "metadata": {
    "collapsed": false,
    "jupyter": {
     "outputs_hidden": false
    }
   },
   "outputs": [],
   "source": [
    "import numpy as np\n",
    "\n",
    "import gstools as gs\n",
    "\n",
    "# creating our own unstructured grid\n",
    "seed = gs.random.MasterRNG(20220425)\n",
    "rng = np.random.RandomState(seed())\n",
    "x = rng.randint(0, 100, size=10000)\n",
    "y = rng.randint(0, 100, size=10000)\n",
    "\n",
    "model = gs.Exponential(dim=2, var=1, len_scale=[12, 3], angles=np.pi / 8)\n",
    "srf = gs.SRF(model, seed=20220425)\n",
    "field1 = srf((x, y))\n",
    "srf.plot()"
   ]
  },
  {
   "cell_type": "markdown",
   "metadata": {},
   "source": [
    "But now we extend the field on the right hand side by creating a new\n",
    "unstructured grid and calculating a field with the same parameters and the\n",
    "same seed on it:\n",
    "\n"
   ]
  },
  {
   "cell_type": "code",
   "execution_count": null,
   "metadata": {
    "collapsed": false,
    "jupyter": {
     "outputs_hidden": false
    }
   },
   "outputs": [],
   "source": [
    "# new grid\n",
    "seed = gs.random.MasterRNG(20220425)\n",
    "rng = np.random.RandomState(seed())\n",
    "x2 = rng.randint(99, 150, size=10000)\n",
    "y2 = rng.randint(20, 80, size=10000)\n",
    "\n",
    "field2 = srf((x2, y2))\n",
    "ax = srf.plot()\n",
    "ax.tricontourf(x, y, field1.T, levels=256)\n",
    "ax.set_aspect(\"equal\")"
   ]
  },
  {
   "cell_type": "markdown",
   "metadata": {},
   "source": [
    "The slight mismatch where the two fields were merged is merely due to\n",
    "interpolation problems of the plotting routine. You can convince yourself\n",
    "be increasing the resolution of the grids by a factor of 10.\n",
    "\n",
    "Of course, this merging could also have been done by appending the grid\n",
    "point ``(x2, y2)`` to the original grid ``(x, y)`` before generating the field.\n",
    "But one application scenario would be to generate hugh fields, which would not\n",
    "fit into memory anymore.\n",
    "\n"
   ]
  }
 ],
 "metadata": {
  "kernelspec": {
   "display_name": "Python 3 (ipykernel)",
   "language": "python",
   "name": "python3"
  },
  "language_info": {
   "codemirror_mode": {
    "name": "ipython",
    "version": 3
   },
   "file_extension": ".py",
   "mimetype": "text/x-python",
   "name": "python",
   "nbconvert_exporter": "python",
   "pygments_lexer": "ipython3",
   "version": "3.9.12"
  }
 },
 "nbformat": 4,
 "nbformat_minor": 4
}
