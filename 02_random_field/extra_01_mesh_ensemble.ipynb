{
 "cells": [
  {
   "cell_type": "code",
   "execution_count": null,
   "metadata": {
    "collapsed": false,
    "jupyter": {
     "outputs_hidden": false
    }
   },
   "outputs": [],
   "source": [
    "%matplotlib widget\n",
    "import matplotlib.pyplot as plt\n",
    "plt.ioff()\n",
    "# turn of warnings\n",
    "import warnings\n",
    "warnings.filterwarnings('ignore')"
   ]
  },
  {
   "cell_type": "markdown",
   "metadata": {},
   "source": [
    "\n",
    "# Generating Fields on Meshes\n",
    "\n",
    "GSTools provides an interface for meshes, to support\n",
    "[meshio](https://github.com/nschloe/meshio) and [ogs5py](https://github.com/GeoStat-Framework/ogs5py) meshes.\n",
    "\n",
    "When using `meshio`, the generated fields will be stored immediately in the mesh container.\n",
    "\n",
    "There are two options to generate a field on a given mesh:\n",
    "\n",
    "- `points=\"points\"` will generate a field on the mesh points\n",
    "- `points=\"centroids\"` will generate a field on the cell centroids\n",
    "\n",
    "In this example, we will generate a simple mesh with the aid of [meshzoo](https://github.com/nschloe/meshzoo).\n"
   ]
  },
  {
   "cell_type": "code",
   "execution_count": null,
   "metadata": {
    "collapsed": false,
    "jupyter": {
     "outputs_hidden": false
    }
   },
   "outputs": [],
   "source": [
    "import matplotlib.pyplot as plt\n",
    "import matplotlib.tri as tri\n",
    "import meshio\n",
    "import meshzoo\n",
    "import numpy as np\n",
    "\n",
    "import gstools as gs\n",
    "\n",
    "# generate a triangulated hexagon with meshzoo\n",
    "points, cells = meshzoo.ngon(6, 4)\n",
    "mesh = meshio.Mesh(points, {\"triangle\": cells})"
   ]
  },
  {
   "cell_type": "markdown",
   "metadata": {},
   "source": [
    "Now we prepare the SRF class as always. We will generate an ensemble of\n",
    "fields on the generated mesh.\n",
    "\n"
   ]
  },
  {
   "cell_type": "code",
   "execution_count": null,
   "metadata": {
    "collapsed": false,
    "jupyter": {
     "outputs_hidden": false
    }
   },
   "outputs": [],
   "source": [
    "# number of fields\n",
    "fields_no = 12\n",
    "# model setup\n",
    "model = gs.Gaussian(dim=2, len_scale=0.5)\n",
    "srf = gs.SRF(model, mean=1)"
   ]
  },
  {
   "cell_type": "markdown",
   "metadata": {},
   "source": [
    "To generate fields on a mesh, we provide a separate method: :any:`SRF.mesh`.\n",
    "First we generate fields on the mesh-centroids controlled by a seed.\n",
    "You can specify the field name by the keyword `name`.\n",
    "\n"
   ]
  },
  {
   "cell_type": "code",
   "execution_count": null,
   "metadata": {
    "collapsed": false,
    "jupyter": {
     "outputs_hidden": false
    }
   },
   "outputs": [],
   "source": [
    "for i in range(fields_no):\n",
    "    srf.mesh(mesh, points=\"centroids\", name=\"c-field-{}\".format(i), seed=i)"
   ]
  },
  {
   "cell_type": "markdown",
   "metadata": {},
   "source": [
    "Now we generate fields on the mesh-points again controlled by a seed.\n",
    "\n"
   ]
  },
  {
   "cell_type": "code",
   "execution_count": null,
   "metadata": {
    "collapsed": false,
    "jupyter": {
     "outputs_hidden": false
    }
   },
   "outputs": [],
   "source": [
    "for i in range(fields_no):\n",
    "    srf.mesh(mesh, points=\"points\", name=\"p-field-{}\".format(i), seed=i)"
   ]
  },
  {
   "cell_type": "markdown",
   "metadata": {},
   "source": [
    "To get an impression we now want to plot the generated fields.\n",
    "Luckily, matplotlib supports triangular meshes.\n",
    "\n"
   ]
  },
  {
   "cell_type": "code",
   "execution_count": null,
   "metadata": {
    "collapsed": false,
    "jupyter": {
     "outputs_hidden": false
    }
   },
   "outputs": [],
   "source": [
    "triangulation = tri.Triangulation(points[:, 0], points[:, 1], cells)\n",
    "# figure setup\n",
    "cols = 4\n",
    "rows = int(np.ceil(fields_no / cols))"
   ]
  },
  {
   "cell_type": "markdown",
   "metadata": {},
   "source": [
    "Cell data can be easily visualized with matplotlibs `tripcolor`.\n",
    "To highlight the cell structure, we use `triplot`.\n",
    "\n"
   ]
  },
  {
   "cell_type": "code",
   "execution_count": null,
   "metadata": {
    "collapsed": false,
    "jupyter": {
     "outputs_hidden": false
    }
   },
   "outputs": [],
   "source": [
    "fig = plt.figure(figsize=[2 * cols, 2 * rows])\n",
    "for i, field in enumerate(mesh.cell_data, 1):\n",
    "    ax = fig.add_subplot(rows, cols, i)\n",
    "    ax.tripcolor(triangulation, mesh.cell_data[field][0])\n",
    "    ax.triplot(triangulation, linewidth=0.5, color=\"k\")\n",
    "    ax.set_aspect(\"equal\")\n",
    "fig.tight_layout()\n",
    "fig.show()"
   ]
  },
  {
   "cell_type": "markdown",
   "metadata": {},
   "source": [
    "Point data is plotted via `tricontourf`.\n",
    "\n"
   ]
  },
  {
   "cell_type": "code",
   "execution_count": null,
   "metadata": {
    "collapsed": false,
    "jupyter": {
     "outputs_hidden": false
    }
   },
   "outputs": [],
   "source": [
    "fig = plt.figure(figsize=[2 * cols, 2 * rows])\n",
    "for i, field in enumerate(mesh.point_data, 1):\n",
    "    ax = fig.add_subplot(rows, cols, i)\n",
    "    ax.tricontourf(triangulation, mesh.point_data[field])\n",
    "    ax.triplot(triangulation, linewidth=0.5, color=\"k\")\n",
    "    ax.set_aspect(\"equal\")\n",
    "fig.tight_layout()\n",
    "plt.show()"
   ]
  },
  {
   "cell_type": "markdown",
   "metadata": {},
   "source": [
    "Last but not least, `meshio` can be used for what is does best: Exporting.\n",
    "Tada!\n",
    "\n"
   ]
  },
  {
   "cell_type": "code",
   "execution_count": null,
   "metadata": {
    "collapsed": false,
    "jupyter": {
     "outputs_hidden": false
    }
   },
   "outputs": [],
   "source": [
    "mesh.write(\"mesh_ensemble.vtk\")"
   ]
  }
 ],
 "metadata": {
  "kernelspec": {
   "display_name": "Python 3 (ipykernel)",
   "language": "python",
   "name": "python3"
  },
  "language_info": {
   "codemirror_mode": {
    "name": "ipython",
    "version": 3
   },
   "file_extension": ".py",
   "mimetype": "text/x-python",
   "name": "python",
   "nbconvert_exporter": "python",
   "pygments_lexer": "ipython3",
   "version": "3.9.12"
  }
 },
 "nbformat": 4,
 "nbformat_minor": 4
}
