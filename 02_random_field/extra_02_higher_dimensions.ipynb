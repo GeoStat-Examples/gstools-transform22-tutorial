{
 "cells": [
  {
   "cell_type": "code",
   "execution_count": null,
   "metadata": {
    "collapsed": false,
    "jupyter": {
     "outputs_hidden": false
    }
   },
   "outputs": [],
   "source": [
    "%matplotlib widget\n",
    "import matplotlib.pyplot as plt\n",
    "plt.ioff()\n",
    "# turn of warnings\n",
    "import warnings\n",
    "warnings.filterwarnings('ignore')"
   ]
  },
  {
   "cell_type": "markdown",
   "metadata": {},
   "source": [
    "\n",
    "# Higher Dimensions\n",
    "\n",
    "GSTools provides experimental support for higher dimensions.\n",
    "Anisotropy is the same as in lower dimensions:\n",
    "\n",
    "- in `n` dimensions we need `(n-1)` anisotropy ratios\n",
    "\n",
    "Rotation on the other hand is a bit more complex.\n",
    "With increasing dimensions more and more rotation angles are added in order\n",
    "to properply describe the rotated axes of anisotropy.\n",
    "\n",
    "By design the first rotation angles coincide with the lower ones:\n",
    "\n",
    "- 2D (rotation in x-y plane) -> 3D: first angle describes xy-plane rotation\n",
    "- 3D (Tait-Bryan angles) -> 4D: first 3 angles coincide with Tait-Bryan angles\n",
    "\n",
    "By increasing the dimension from `n` to `(n+1)`, `n` angles are added:\n",
    "\n",
    "- 2D (1 angle) -> 3D: 3 angles (2 added)\n",
    "- 3D (3 angles) -> 4D: 6 angles (3 added)\n",
    "\n",
    "the following list of rotation-planes are described by the list of\n",
    "angles in the model:\n",
    "\n",
    "1. x-y plane\n",
    "2. x-z plane\n",
    "3. y-z plane\n",
    "4. x-v plane\n",
    "5. y-v plane\n",
    "6. z-v plane\n",
    "7. ...\n",
    "\n",
    "The rotation direction in these planes have alternating signs\n",
    "in order to match Tait-Bryan in 3D.\n",
    "\n",
    "Let's have a look at a 4D example, where we naively add a 4th dimension.\n"
   ]
  },
  {
   "cell_type": "code",
   "execution_count": null,
   "metadata": {
    "collapsed": false,
    "jupyter": {
     "outputs_hidden": false
    }
   },
   "outputs": [],
   "source": [
    "import matplotlib.pyplot as plt\n",
    "\n",
    "import gstools as gs\n",
    "\n",
    "dim = 4\n",
    "size = 20\n",
    "pos = [range(size)] * dim\n",
    "model = gs.Exponential(dim=dim, len_scale=5)\n",
    "srf = gs.SRF(model, seed=20170519)\n",
    "field = srf.structured(pos)"
   ]
  },
  {
   "cell_type": "markdown",
   "metadata": {},
   "source": [
    "In order to \"prove\" correctness, we can calculate an empirical variogram\n",
    "of the generated field and fit our model to it.\n",
    "\n"
   ]
  },
  {
   "cell_type": "code",
   "execution_count": null,
   "metadata": {
    "collapsed": false,
    "jupyter": {
     "outputs_hidden": false
    }
   },
   "outputs": [],
   "source": [
    "bin_center, vario = gs.vario_estimate(\n",
    "    pos, field, sampling_size=2000, mesh_type=\"structured\"\n",
    ")\n",
    "model.fit_variogram(bin_center, vario)\n",
    "print(model)"
   ]
  },
  {
   "cell_type": "markdown",
   "metadata": {},
   "source": [
    "As you can see, the estimated variance and length scale match our input\n",
    "quite well.\n",
    "\n",
    "Let's have a look at the fit and a x-y cross-section of the 4D field:\n",
    "\n"
   ]
  },
  {
   "cell_type": "code",
   "execution_count": null,
   "metadata": {
    "collapsed": false,
    "jupyter": {
     "outputs_hidden": false
    }
   },
   "outputs": [],
   "source": [
    "f, a = plt.subplots(1, 2, gridspec_kw={\"width_ratios\": [2, 1]}, figsize=[9, 3])\n",
    "model.plot(x_max=max(bin_center), ax=a[0])\n",
    "a[0].scatter(bin_center, vario)\n",
    "a[1].imshow(field[:, :, 0, 0].T, origin=\"lower\")\n",
    "a[0].set_title(\"isotropic empirical variogram with fitted model\")\n",
    "a[1].set_title(\"x-y cross-section\")\n",
    "f.show()"
   ]
  },
  {
   "cell_type": "markdown",
   "metadata": {},
   "source": [
    "GSTools also provides plotting routines for higher dimensions.\n",
    "Fields are shown by 2D cross-sections, where other dimensions can be\n",
    "controlled via sliders.\n",
    "\n"
   ]
  },
  {
   "cell_type": "code",
   "execution_count": null,
   "metadata": {
    "collapsed": false,
    "jupyter": {
     "outputs_hidden": false
    }
   },
   "outputs": [],
   "source": [
    "srf.plot()"
   ]
  }
 ],
 "metadata": {
  "kernelspec": {
   "display_name": "Python 3 (ipykernel)",
   "language": "python",
   "name": "python3"
  },
  "language_info": {
   "codemirror_mode": {
    "name": "ipython",
    "version": 3
   },
   "file_extension": ".py",
   "mimetype": "text/x-python",
   "name": "python",
   "nbconvert_exporter": "python",
   "pygments_lexer": "ipython3",
   "version": "3.9.12"
  }
 },
 "nbformat": 4,
 "nbformat_minor": 4
}
