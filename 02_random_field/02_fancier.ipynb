{
 "cells": [
  {
   "cell_type": "code",
   "execution_count": null,
   "metadata": {
    "jupyter": {
     "source_hidden": true
    },
    "tags": []
   },
   "outputs": [],
   "source": [
    "%matplotlib widget\n",
    "import matplotlib.pyplot as plt\n",
    "plt.ioff()\n",
    "# turn of warnings\n",
    "import warnings\n",
    "warnings.filterwarnings('ignore')"
   ]
  },
  {
   "cell_type": "markdown",
   "metadata": {},
   "source": [
    "\n",
    "# Creating Fancier Fields\n",
    "\n",
    "Only using Gaussian covariance fields gets boring. Now we are going to create\n",
    "much rougher random fields by using an exponential covariance model and we are going to make them anisotropic.\n",
    "\n",
    "The code is very similar to the previous examples, but with a different\n",
    "covariance model class `Exponential`. As model parameters we a using\n",
    "following\n",
    "\n",
    "- variance $\\sigma^2=1$\n",
    "- correlation length $\\ell=(12, 3)^T$\n",
    "- rotation angle $\\theta=\\pi/8$\n"
   ]
  },
  {
   "cell_type": "code",
   "execution_count": null,
   "metadata": {
    "collapsed": false,
    "jupyter": {
     "outputs_hidden": false
    }
   },
   "outputs": [],
   "source": [
    "import numpy as np\n",
    "import gstools as gs\n",
    "\n",
    "x = y = np.arange(0, 101)\n",
    "model = gs.Exponential(\n",
    "    dim=2,\n",
    "    var=1,\n",
    "    len_scale=[12.0, 3.0],\n",
    "    angles=np.deg2rad(22.5),\n",
    ")\n",
    "srf = gs.SRF(model, seed=20170519)\n",
    "srf.structured([x, y])\n",
    "srf.plot()\n",
    "print(model)"
   ]
  },
  {
   "cell_type": "markdown",
   "metadata": {},
   "source": [
    "The anisotropy ratio could also have been set with\n",
    "\n"
   ]
  },
  {
   "cell_type": "code",
   "execution_count": null,
   "metadata": {
    "collapsed": false,
    "jupyter": {
     "outputs_hidden": false
    }
   },
   "outputs": [],
   "source": [
    "model = gs.Exponential(dim=2, var=1, len_scale=12, anis=1/4, angles=np.deg2rad(22.5))\n",
    "print(model)"
   ]
  }
 ],
 "metadata": {
  "kernelspec": {
   "display_name": "Python 3 (ipykernel)",
   "language": "python",
   "name": "python3"
  },
  "language_info": {
   "codemirror_mode": {
    "name": "ipython",
    "version": 3
   },
   "file_extension": ".py",
   "mimetype": "text/x-python",
   "name": "python",
   "nbconvert_exporter": "python",
   "pygments_lexer": "ipython3",
   "version": "3.9.12"
  }
 },
 "nbformat": 4,
 "nbformat_minor": 4
}
