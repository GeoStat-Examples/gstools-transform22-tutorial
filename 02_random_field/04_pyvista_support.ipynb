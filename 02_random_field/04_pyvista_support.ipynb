{
 "cells": [
  {
   "cell_type": "code",
   "execution_count": null,
   "metadata": {
    "collapsed": false,
    "jupyter": {
     "outputs_hidden": false
    }
   },
   "outputs": [],
   "source": [
    "%matplotlib widget\n",
    "import matplotlib.pyplot as plt\n",
    "plt.ioff()\n",
    "# turn of warnings\n",
    "import warnings\n",
    "warnings.filterwarnings('ignore')"
   ]
  },
  {
   "cell_type": "markdown",
   "metadata": {},
   "source": [
    "\n",
    "# Using PyVista meshes\n",
    "\n",
    "[PyVista](https://www.pyvista.org) is a helper module for the\n",
    "Visualization Toolkit (VTK) that takes a different approach on interfacing with\n",
    "VTK through NumPy and direct array access.\n",
    "\n",
    "It provides mesh data structures and filtering methods for spatial datasets,\n",
    "makes 3D plotting simple and is built for large/complex data geometries.\n",
    "\n",
    "The `Field.mesh` method enables easy field creation on PyVista meshes\n",
    "used by the `SRF` or `Krige` class.\n"
   ]
  },
  {
   "cell_type": "code",
   "execution_count": null,
   "metadata": {
    "collapsed": false,
    "jupyter": {
     "outputs_hidden": false
    }
   },
   "outputs": [],
   "source": [
    "import pyvista as pv\n",
    "import gstools as gs"
   ]
  },
  {
   "cell_type": "markdown",
   "metadata": {},
   "source": [
    "We create a structured grid with PyVista containing 50 segments on all three\n",
    "axes each with a length of 2 (whatever unit).\n",
    "\n"
   ]
  },
  {
   "cell_type": "code",
   "execution_count": null,
   "metadata": {
    "collapsed": false,
    "jupyter": {
     "outputs_hidden": false
    }
   },
   "outputs": [],
   "source": [
    "dim, spacing = (50, 50, 50), (2, 2, 2)\n",
    "grid = pv.UniformGrid(dim, spacing)"
   ]
  },
  {
   "cell_type": "markdown",
   "metadata": {},
   "source": [
    "Now we set up the SRF class as always. We'll use an anisotropic model.\n",
    "\n"
   ]
  },
  {
   "cell_type": "code",
   "execution_count": null,
   "metadata": {
    "collapsed": false,
    "jupyter": {
     "outputs_hidden": false
    }
   },
   "outputs": [],
   "source": [
    "model = gs.Gaussian(dim=3, len_scale=[16, 8, 4], angles=(0.8, 0.4, 0.2))\n",
    "srf = gs.SRF(model, seed=19970221)"
   ]
  },
  {
   "cell_type": "markdown",
   "metadata": {},
   "source": [
    "The PyVista mesh can now be directly passed to the :any:`SRF.mesh` method.\n",
    "When dealing with meshes, one can choose if the field should be generated\n",
    "on the mesh-points (`\"points\"`) or the cell-centroids (`\"centroids\"`).\n",
    "\n",
    "In addition we can set a name, under which the resulting field is stored\n",
    "in the mesh.\n",
    "\n"
   ]
  },
  {
   "cell_type": "code",
   "execution_count": null,
   "metadata": {
    "collapsed": false,
    "jupyter": {
     "outputs_hidden": false
    }
   },
   "outputs": [],
   "source": [
    "field = srf.mesh(grid, points=\"points\", name=\"random-field\")"
   ]
  },
  {
   "cell_type": "markdown",
   "metadata": {},
   "source": [
    "Now we have access to PyVista's abundancy of methods to explore the field.\n",
    "\n",
    "## Note\n",
    "PyVista is not working on readthedocs, but you can try it out yourself by uncommenting the following line of code.\n",
    "\n"
   ]
  },
  {
   "cell_type": "code",
   "execution_count": null,
   "metadata": {
    "collapsed": false,
    "jupyter": {
     "outputs_hidden": false
    }
   },
   "outputs": [],
   "source": [
    "grid.contour(isosurfaces=8).plot()"
   ]
  }
 ],
 "metadata": {
  "kernelspec": {
   "display_name": "Python 3 (ipykernel)",
   "language": "python",
   "name": "python3"
  },
  "language_info": {
   "codemirror_mode": {
    "name": "ipython",
    "version": 3
   },
   "file_extension": ".py",
   "mimetype": "text/x-python",
   "name": "python",
   "nbconvert_exporter": "python",
   "pygments_lexer": "ipython3",
   "version": "3.9.12"
  }
 },
 "nbformat": 4,
 "nbformat_minor": 4
}
