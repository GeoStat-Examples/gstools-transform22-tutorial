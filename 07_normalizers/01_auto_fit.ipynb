{
 "cells": [
  {
   "cell_type": "code",
   "execution_count": null,
   "metadata": {
    "collapsed": false,
    "jupyter": {
     "outputs_hidden": false
    }
   },
   "outputs": [],
   "source": [
    "%matplotlib widget\n",
    "import matplotlib.pyplot as plt\n",
    "plt.ioff()\n",
    "# turn of warnings\n",
    "import warnings\n",
    "warnings.filterwarnings('ignore')"
   ]
  },
  {
   "cell_type": "markdown",
   "metadata": {},
   "source": [
    "\n",
    "# Automatic fitting\n",
    "\n",
    "In order to demonstrate how to automatically fit normalizer and variograms,\n",
    "we generate synthetic log-normal data, that should be interpolated with\n",
    "ordinary kriging.\n",
    "\n",
    "Normalizers are fitted by minimizing the likelihood function and variograms\n",
    "are fitted by estimating the empirical variogram with automatic binning and\n",
    "fitting the theoretical model to it. Thereby the sill is constrained to match\n",
    "the field variance.\n",
    "\n",
    "## Artificial data\n",
    "\n",
    "Here we generate log-normal data following a Gaussian covariance model.\n",
    "We will generate the \"original\" field on a 50x50 mesh, from which we will take\n",
    "samples in order to pretend a situation of data-scarcity.\n"
   ]
  },
  {
   "cell_type": "code",
   "execution_count": null,
   "metadata": {
    "collapsed": false,
    "jupyter": {
     "outputs_hidden": false
    }
   },
   "outputs": [],
   "source": [
    "import numpy as np\n",
    "import gstools as gs\n",
    "\n",
    "# structured field with edge length of 50\n",
    "x = y = range(51)\n",
    "pos = gs.generate_grid([x, y])\n",
    "model = gs.Gaussian(dim=2, var=1, len_scale=10)\n",
    "srf = gs.SRF(model, seed=20170519, normalizer=gs.normalizer.LogNormal())\n",
    "# generate the \"true\" field\n",
    "field = srf(pos)"
   ]
  },
  {
   "cell_type": "markdown",
   "metadata": {},
   "source": [
    "Here, we sample 60 points and set the conditioning points and values.\n",
    "\n"
   ]
  },
  {
   "cell_type": "code",
   "execution_count": null,
   "metadata": {
    "collapsed": false,
    "jupyter": {
     "outputs_hidden": false
    }
   },
   "outputs": [],
   "source": [
    "ids = np.arange(srf.field.size)\n",
    "samples = np.random.RandomState(20210201).choice(ids, size=60, replace=False)\n",
    "\n",
    "# sample conditioning points from generated field\n",
    "cond_pos = pos[:, samples]\n",
    "cond_val = srf.field[samples]"
   ]
  },
  {
   "cell_type": "markdown",
   "metadata": {},
   "source": [
    "## Fitting and Interpolation\n",
    "\n",
    "Now we want to interpolate the \"measured\" samples\n",
    "and we want to normalize the given data with the BoxCox transformation.\n",
    "\n",
    "Here we set up the kriging routine and use a `Stable` model, that should\n",
    "be fitted automatically to the given data\n",
    "and we pass the `BoxCox` normalizer in order to gain normality.\n",
    "\n",
    "The normalizer will be fitted automatically to the data,\n",
    "by setting `fit_normalizer=True`.\n",
    "\n",
    "The covariance/variogram model will be fitted by an automatic workflow\n",
    "by setting `fit_variogram=True`."
   ]
  },
  {
   "cell_type": "code",
   "execution_count": null,
   "metadata": {
    "collapsed": false,
    "jupyter": {
     "outputs_hidden": false
    }
   },
   "outputs": [],
   "source": [
    "krige = gs.krige.Ordinary(\n",
    "    model=gs.Stable(dim=2),\n",
    "    cond_pos=cond_pos,\n",
    "    cond_val=cond_val,\n",
    "    normalizer=gs.normalizer.BoxCox(),\n",
    "    fit_normalizer=True,\n",
    "    fit_variogram=True,\n",
    ")"
   ]
  },
  {
   "cell_type": "markdown",
   "metadata": {},
   "source": [
    "First, let's have a look at the fitting results:\n",
    "\n"
   ]
  },
  {
   "cell_type": "code",
   "execution_count": null,
   "metadata": {
    "collapsed": false,
    "jupyter": {
     "outputs_hidden": false
    }
   },
   "outputs": [],
   "source": [
    "print(krige.model)\n",
    "print(\"Integral scale\", krige.model.integral_scale)\n",
    "print(krige.normalizer)"
   ]
  },
  {
   "cell_type": "markdown",
   "metadata": {},
   "source": [
    "As we see, it went quite well. Variance is a bit underestimated, but\n",
    "length scale and nugget are good. The shape parameter of the stable model\n",
    "is correctly estimated to be close to `2`,\n",
    "so we result in a Gaussian like model.\n",
    "\n",
    "The BoxCox parameter `lmbda` was estimated to be almost 0, which means,\n",
    "the log-normal distribution was correctly fitted.\n",
    "\n",
    "Now let's run the kriging interpolation.\n",
    "\n"
   ]
  },
  {
   "cell_type": "code",
   "execution_count": null,
   "metadata": {
    "collapsed": false,
    "jupyter": {
     "outputs_hidden": false
    }
   },
   "outputs": [],
   "source": [
    "k_field, var = krige(pos)"
   ]
  },
  {
   "cell_type": "markdown",
   "metadata": {},
   "source": [
    "## Plotting\n",
    "\n",
    "Finally let's compare the original, sampled and interpolated fields.\n",
    "As we'll see, there is a lot of information in the covariance structure\n",
    "of the measurement samples and the field is reconstructed quite accurately.\n",
    "\n"
   ]
  },
  {
   "cell_type": "code",
   "execution_count": null,
   "metadata": {
    "collapsed": false,
    "jupyter": {
     "outputs_hidden": false
    }
   },
   "outputs": [],
   "source": [
    "fig, ax = plt.subplots(1, 3, figsize=[8, 3])\n",
    "ax[0].imshow(srf.field.reshape(len(x), len(y)).T, origin=\"lower\")\n",
    "ax[1].scatter(*cond_pos, c=cond_val)\n",
    "ax[2].imshow(krige.field.reshape(len(x), len(y)).T, origin=\"lower\")\n",
    "# titles\n",
    "ax[0].set_title(\"original field\")\n",
    "ax[1].set_title(\"sampled field\")\n",
    "ax[2].set_title(\"interpolated field\")\n",
    "# set aspect ratio to equal in all plots\n",
    "[ax[i].set_aspect(\"equal\") for i in range(3)]\n",
    "\n",
    "fig.show()"
   ]
  }
 ],
 "metadata": {
  "kernelspec": {
   "display_name": "Python 3 (ipykernel)",
   "language": "python",
   "name": "python3"
  },
  "language_info": {
   "codemirror_mode": {
    "name": "ipython",
    "version": 3
   },
   "file_extension": ".py",
   "mimetype": "text/x-python",
   "name": "python",
   "nbconvert_exporter": "python",
   "pygments_lexer": "ipython3",
   "version": "3.9.12"
  }
 },
 "nbformat": 4,
 "nbformat_minor": 4
}
