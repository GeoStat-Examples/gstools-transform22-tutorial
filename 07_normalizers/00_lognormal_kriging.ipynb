{
 "cells": [
  {
   "cell_type": "code",
   "execution_count": null,
   "metadata": {
    "collapsed": false,
    "jupyter": {
     "outputs_hidden": false
    }
   },
   "outputs": [],
   "source": [
    "%matplotlib widget\n",
    "import matplotlib.pyplot as plt\n",
    "plt.ioff()\n",
    "# turn of warnings\n",
    "import warnings\n",
    "warnings.filterwarnings('ignore')"
   ]
  },
  {
   "cell_type": "markdown",
   "metadata": {},
   "source": [
    "\n",
    "# Log-Normal Kriging\n",
    "\n",
    "Log Normal kriging is a term to describe a special workflow for kriging to\n",
    "deal with log-normal data, like conductivity or transmissivity in hydrogeology.\n",
    "\n",
    "It simply means to first convert the input data to a normal distribution, i.e.\n",
    "applying a logarithic function, then interpolating these values with kriging\n",
    "and transforming the result back with the exponential function.\n",
    "\n",
    "The resulting kriging variance describes the error variance of the log-values\n",
    "of the target variable.\n",
    "\n",
    "In this example we will use ordinary kriging.\n"
   ]
  },
  {
   "cell_type": "code",
   "execution_count": null,
   "metadata": {
    "collapsed": false,
    "jupyter": {
     "outputs_hidden": false
    }
   },
   "outputs": [],
   "source": [
    "import numpy as np\n",
    "import gstools as gs\n",
    "\n",
    "# condtions\n",
    "cond_pos = [0.3, 1.9, 1.1, 3.3, 4.7]\n",
    "cond_val = [0.47, 0.56, 0.74, 1.47, 1.74]\n",
    "# resulting grid\n",
    "gridx = np.linspace(0.0, 15.0, 151)\n",
    "# stable covariance model\n",
    "model = gs.Stable(dim=1, var=0.5, len_scale=2.56, alpha=1.9)"
   ]
  },
  {
   "cell_type": "markdown",
   "metadata": {},
   "source": [
    "In order to result in log-normal kriging, we will use the `LogNormal`\n",
    "Normalizer. This is a parameter-less normalizer, so we don't have to fit it.\n",
    "\n"
   ]
  },
  {
   "cell_type": "code",
   "execution_count": null,
   "metadata": {
    "collapsed": false,
    "jupyter": {
     "outputs_hidden": false
    }
   },
   "outputs": [],
   "source": [
    "normalizer = gs.normalizer.LogNormal"
   ]
  },
  {
   "cell_type": "markdown",
   "metadata": {},
   "source": [
    "Now we generate the interpolated field as well as the mean field.\n",
    "This can be done by setting `only_mean=True` in `Krige.__call__`.\n",
    "The result is then stored as `mean_field`.\n",
    "\n",
    "In terms of log-normal kriging, this mean represents the geometric mean of\n",
    "the field."
   ]
  },
  {
   "cell_type": "code",
   "execution_count": null,
   "metadata": {
    "collapsed": false,
    "jupyter": {
     "outputs_hidden": false
    }
   },
   "outputs": [],
   "source": [
    "krige = gs.krige.Ordinary(model, cond_pos, cond_val, normalizer=normalizer)\n",
    "# interpolate the field\n",
    "field = krige(gridx, return_var=False)\n",
    "# also generate the mean field\n",
    "mean = krige(gridx, only_mean=True)"
   ]
  },
  {
   "cell_type": "markdown",
   "metadata": {},
   "source": [
    "And that's it. Let's have a look at the results.\n",
    "\n"
   ]
  },
  {
   "cell_type": "code",
   "execution_count": null,
   "metadata": {
    "collapsed": false,
    "jupyter": {
     "outputs_hidden": false
    }
   },
   "outputs": [],
   "source": [
    "ax = krige.plot()\n",
    "# plotting the geometric mean\n",
    "krige.plot(\"mean_field\", ax=ax)\n",
    "# plotting the conditioning data\n",
    "ax.scatter(cond_pos, cond_val, color=\"k\", zorder=10, label=\"Conditions\")\n",
    "ax.legend()"
   ]
  }
 ],
 "metadata": {
  "kernelspec": {
   "display_name": "Python 3 (ipykernel)",
   "language": "python",
   "name": "python3"
  },
  "language_info": {
   "codemirror_mode": {
    "name": "ipython",
    "version": 3
   },
   "file_extension": ".py",
   "mimetype": "text/x-python",
   "name": "python",
   "nbconvert_exporter": "python",
   "pygments_lexer": "ipython3",
   "version": "3.9.12"
  }
 },
 "nbformat": 4,
 "nbformat_minor": 4
}
