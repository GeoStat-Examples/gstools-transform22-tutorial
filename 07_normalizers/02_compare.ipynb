{
 "cells": [
  {
   "cell_type": "code",
   "execution_count": null,
   "metadata": {
    "collapsed": false,
    "jupyter": {
     "outputs_hidden": false
    }
   },
   "outputs": [],
   "source": [
    "%matplotlib widget\n",
    "import matplotlib.pyplot as plt\n",
    "plt.ioff()\n",
    "# turn of warnings\n",
    "import warnings\n",
    "warnings.filterwarnings('ignore')"
   ]
  },
  {
   "cell_type": "markdown",
   "metadata": {},
   "source": [
    "\n",
    "# Normalizer Comparison\n",
    "\n",
    "Let's compare the transformation behavior of the provided normalizers.\n",
    "\n",
    "But first, we define a convenience routine and make some imports as always.\n"
   ]
  },
  {
   "cell_type": "code",
   "execution_count": null,
   "metadata": {
    "collapsed": false,
    "jupyter": {
     "outputs_hidden": false
    }
   },
   "outputs": [],
   "source": [
    "import numpy as np\n",
    "import gstools as gs\n",
    "\n",
    "def dashes(i=1, max_n=12, width=1):\n",
    "    \"\"\"Return line dashes.\"\"\"\n",
    "    return i * [width, width] + [max_n * 2 * width - 2 * i * width, width]"
   ]
  },
  {
   "cell_type": "markdown",
   "metadata": {},
   "source": [
    "We select 4 normalizers depending on a single parameter lambda and\n",
    "plot their transformation behavior within the interval [-5, 5].\n",
    "\n",
    "For the shape parameter lambda, we create a list of 8 values ranging from\n",
    "-1 to 2.5.\n",
    "\n"
   ]
  },
  {
   "cell_type": "code",
   "execution_count": null,
   "metadata": {
    "collapsed": false,
    "jupyter": {
     "outputs_hidden": false
    }
   },
   "outputs": [],
   "source": [
    "lmbdas = [i * 0.5 for i in range(-2, 6)]\n",
    "normalizers = [\n",
    "    gs.normalizer.BoxCox,\n",
    "    gs.normalizer.YeoJohnson,\n",
    "    gs.normalizer.Modulus,\n",
    "    gs.normalizer.Manly,\n",
    "]"
   ]
  },
  {
   "cell_type": "markdown",
   "metadata": {},
   "source": [
    "Let's plot them!\n",
    "\n"
   ]
  },
  {
   "cell_type": "code",
   "execution_count": null,
   "metadata": {
    "collapsed": false,
    "jupyter": {
     "outputs_hidden": false
    }
   },
   "outputs": [],
   "source": [
    "fig, ax = plt.subplots(2, 2, figsize=[8, 8])\n",
    "for i, norm in enumerate(normalizers):\n",
    "    # correctly setting the data range\n",
    "    x_rng = norm().normalize_range\n",
    "    x = np.linspace(max(-5, x_rng[0] + 0.01), min(5, x_rng[1] - 0.01))\n",
    "    for j, lmbda in enumerate(lmbdas):\n",
    "        ax.flat[i].plot(\n",
    "            x,\n",
    "            norm(lmbda=lmbda).normalize(x),\n",
    "            label=r\"$\\lambda=\" + str(lmbda) + \"$\",\n",
    "            color=\"k\",\n",
    "            alpha=0.2 + j * 0.1,\n",
    "            dashes=dashes(j),\n",
    "        )\n",
    "    # axis formatting\n",
    "    ax.flat[i].grid(which=\"both\", color=\"grey\", linestyle=\"-\", alpha=0.2)\n",
    "    ax.flat[i].set_ylim((-5, 5))\n",
    "    ax.flat[i].set_xlim((-5, 5))\n",
    "    ax.flat[i].set_title(norm().name)\n",
    "# figure formatting\n",
    "handles, labels = ax.flat[-1].get_legend_handles_labels()\n",
    "fig.legend(handles, labels, loc=\"lower center\", ncol=4, handlelength=3.0)\n",
    "fig.suptitle(\"Normalizer Comparison\", fontsize=20)\n",
    "fig.show()"
   ]
  },
  {
   "cell_type": "markdown",
   "metadata": {},
   "source": [
    "The missing `LogNormal` transformation is covered by the `BoxCox`\n",
    "transformation for lambda=0. The `BoxCoxShift` transformation is\n",
    "simply the `BoxCox` transformation shifted on the X-axis."
   ]
  }
 ],
 "metadata": {
  "kernelspec": {
   "display_name": "Python 3 (ipykernel)",
   "language": "python",
   "name": "python3"
  },
  "language_info": {
   "codemirror_mode": {
    "name": "ipython",
    "version": 3
   },
   "file_extension": ".py",
   "mimetype": "text/x-python",
   "name": "python",
   "nbconvert_exporter": "python",
   "pygments_lexer": "ipython3",
   "version": "3.9.12"
  }
 },
 "nbformat": 4,
 "nbformat_minor": 4
}
