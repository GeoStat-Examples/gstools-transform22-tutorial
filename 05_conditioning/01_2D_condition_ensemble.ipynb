{
 "cells": [
  {
   "cell_type": "code",
   "execution_count": null,
   "metadata": {
    "collapsed": false,
    "jupyter": {
     "outputs_hidden": false
    }
   },
   "outputs": [],
   "source": [
    "%matplotlib widget\n",
    "import matplotlib.pyplot as plt\n",
    "plt.ioff()\n",
    "# turn of warnings\n",
    "import warnings\n",
    "warnings.filterwarnings('ignore')"
   ]
  },
  {
   "cell_type": "markdown",
   "metadata": {},
   "source": [
    "\n",
    "# Creating an Ensemble of conditioned 2D Fields\n",
    "\n",
    "Let's create an ensemble of conditioned random fields in 2D.\n"
   ]
  },
  {
   "cell_type": "code",
   "execution_count": null,
   "metadata": {
    "collapsed": false,
    "jupyter": {
     "outputs_hidden": false
    }
   },
   "outputs": [],
   "source": [
    "import numpy as np\n",
    "import gstools as gs\n",
    "\n",
    "# conditioning data (x, y, value)\n",
    "cond_pos = [[0.3, 1.9, 1.1, 3.3, 4.7], [1.2, 0.6, 3.2, 4.4, 3.8]]\n",
    "cond_val = [0.47, 0.56, 0.74, 1.47, 1.74]\n",
    "\n",
    "# grid definition for output field\n",
    "x = np.arange(0, 5, 0.1)\n",
    "y = np.arange(0, 5, 0.1)\n",
    "\n",
    "model = gs.Gaussian(dim=2, var=0.5, len_scale=5, anis=0.5, angles=-0.5)\n",
    "krige = gs.Krige(model, cond_pos=cond_pos, cond_val=cond_val)\n",
    "cond_srf = gs.CondSRF(krige)\n",
    "cond_srf.set_pos([x, y], \"structured\")"
   ]
  },
  {
   "cell_type": "markdown",
   "metadata": {},
   "source": [
    "To generate the ensemble we will use a seed-generator.\n",
    "By specifying ``store=[f\"fld{i}\", False, False]``, only the conditioned field\n",
    "is stored with the specified name. The raw random field and the raw kriging\n",
    "field is not stored. This way, we can access each conditioned field by index\n",
    "``cond_srf[i]``:\n",
    "\n"
   ]
  },
  {
   "cell_type": "code",
   "execution_count": null,
   "metadata": {
    "collapsed": false,
    "jupyter": {
     "outputs_hidden": false
    }
   },
   "outputs": [],
   "source": [
    "seed = gs.random.MasterRNG(20220425)\n",
    "ens_no = 4\n",
    "for i in range(ens_no):\n",
    "    cond_srf(seed=seed(), store=[f\"fld{i}\", False, False])"
   ]
  },
  {
   "cell_type": "markdown",
   "metadata": {},
   "source": [
    "Now let's have a look at the pairwise differences between the generated\n",
    "fields. We will see, that they coincide at the given conditions.\n",
    "\n"
   ]
  },
  {
   "cell_type": "code",
   "execution_count": null,
   "metadata": {
    "collapsed": false,
    "jupyter": {
     "outputs_hidden": false
    }
   },
   "outputs": [],
   "source": [
    "fig, ax = plt.subplots(ens_no + 1, ens_no + 1, figsize=(7, 7))\n",
    "# plotting kwargs for scatter and image\n",
    "vmax = np.max(cond_srf.all_fields)\n",
    "sc_kw = dict(c=cond_val, edgecolors=\"k\", vmin=0, vmax=vmax)\n",
    "im_kw = dict(extent=2 * [0, 5], origin=\"lower\", vmin=0, vmax=vmax)\n",
    "\n",
    "for i in range(ens_no):\n",
    "    # conditioned fields and conditions\n",
    "    ax[i + 1, 0].imshow(cond_srf[i].T, **im_kw)\n",
    "    ax[i + 1, 0].scatter(*cond_pos, **sc_kw)\n",
    "    ax[i + 1, 0].set_ylabel(f\"Field {i}\", fontsize=10)\n",
    "    ax[0, i + 1].imshow(cond_srf[i].T, **im_kw)\n",
    "    ax[0, i + 1].scatter(*cond_pos, **sc_kw)\n",
    "    ax[0, i + 1].set_title(f\"Field {i}\", fontsize=10)\n",
    "    # absolute differences\n",
    "    for j in range(ens_no):\n",
    "        ax[i + 1, j + 1].imshow(np.abs(cond_srf[i] - cond_srf[j]).T, **im_kw)\n",
    "\n",
    "# beautify plots\n",
    "ax[0, 0].axis(\"off\")\n",
    "for a in ax.flatten():\n",
    "    a.set_xticklabels([]), a.set_yticklabels([])\n",
    "    a.set_xticks([]), a.set_yticks([])\n",
    "fig.subplots_adjust(wspace=0, hspace=0)\n",
    "fig.show()"
   ]
  },
  {
   "cell_type": "markdown",
   "metadata": {},
   "source": [
    "To check if the generated fields are correct, we can have a look at their\n",
    "names:\n",
    "\n"
   ]
  },
  {
   "cell_type": "code",
   "execution_count": null,
   "metadata": {
    "collapsed": false,
    "jupyter": {
     "outputs_hidden": false
    }
   },
   "outputs": [],
   "source": [
    "print(cond_srf.field_names)"
   ]
  }
 ],
 "metadata": {
  "kernelspec": {
   "display_name": "Python 3 (ipykernel)",
   "language": "python",
   "name": "python3"
  },
  "language_info": {
   "codemirror_mode": {
    "name": "ipython",
    "version": 3
   },
   "file_extension": ".py",
   "mimetype": "text/x-python",
   "name": "python",
   "nbconvert_exporter": "python",
   "pygments_lexer": "ipython3",
   "version": "3.9.12"
  }
 },
 "nbformat": 4,
 "nbformat_minor": 4
}
