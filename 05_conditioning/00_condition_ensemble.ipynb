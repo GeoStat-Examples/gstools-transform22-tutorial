{
 "cells": [
  {
   "cell_type": "code",
   "execution_count": null,
   "metadata": {
    "collapsed": false,
    "jupyter": {
     "outputs_hidden": false
    }
   },
   "outputs": [],
   "source": [
    "%matplotlib widget\n",
    "import matplotlib.pyplot as plt\n",
    "plt.ioff()\n",
    "# turn of warnings\n",
    "import warnings\n",
    "warnings.filterwarnings('ignore')"
   ]
  },
  {
   "cell_type": "markdown",
   "metadata": {
    "tags": []
   },
   "source": [
    "\n",
    "# Conditioning with Ordinary Kriging\n",
    "\n",
    "Here we use ordinary kriging in 1D (for plotting reasons)\n",
    "with 5 given observations/conditions,\n",
    "to generate an ensemble of conditioned random fields.\n"
   ]
  },
  {
   "cell_type": "code",
   "execution_count": null,
   "metadata": {
    "collapsed": false,
    "jupyter": {
     "outputs_hidden": false
    }
   },
   "outputs": [],
   "source": [
    "import numpy as np\n",
    "import gstools as gs\n",
    "\n",
    "# condtions\n",
    "cond_pos = [0.3, 1.9, 1.1, 3.3, 4.7]\n",
    "cond_val = [0.47, 0.56, 0.74, 1.47, 1.74]\n",
    "gridx = np.linspace(0.0, 15.0, 151)\n",
    "\n",
    "plt.scatter(cond_pos, cond_val)\n",
    "plt.show()"
   ]
  },
  {
   "cell_type": "markdown",
   "metadata": {},
   "source": [
    "The conditioned spatial random field class depends on a Krige class in order\n",
    "to handle the conditions.\n",
    "This is created as described in the kriging tutorial.\n",
    "\n",
    "Here we use a Gaussian covariance model and ordinary kriging for conditioning\n",
    "the spatial random field.\n",
    "\n"
   ]
  },
  {
   "cell_type": "code",
   "execution_count": null,
   "metadata": {
    "collapsed": false,
    "jupyter": {
     "outputs_hidden": false
    }
   },
   "outputs": [],
   "source": [
    "model = gs.Gaussian(dim=1, var=0.5, len_scale=1.5)\n",
    "krige = gs.krige.Ordinary(model, cond_pos, cond_val)\n",
    "cond_srf = gs.CondSRF(krige)\n",
    "# set position prior to generation\n",
    "cond_srf.set_pos(gridx)"
   ]
  },
  {
   "cell_type": "markdown",
   "metadata": {},
   "source": [
    "To generate the ensemble we will use a seed-generator.\n",
    "We can specify individual names for each field by the keyword `store`:\n",
    "\n"
   ]
  },
  {
   "cell_type": "code",
   "execution_count": null,
   "metadata": {
    "collapsed": false,
    "jupyter": {
     "outputs_hidden": false
    }
   },
   "outputs": [],
   "source": [
    "seed = gs.random.MasterRNG(20170519)\n",
    "for i in range(100):\n",
    "    cond_srf(seed=seed(), store=f\"f{i}\")\n",
    "    label = \"Conditioned ensemble\" if i == 0 else None\n",
    "    plt.plot(gridx, cond_srf[f\"f{i}\"], color=\"k\", alpha=0.1, label=label)"
   ]
  },
  {
   "cell_type": "code",
   "execution_count": null,
   "metadata": {
    "collapsed": false,
    "jupyter": {
     "outputs_hidden": false
    }
   },
   "outputs": [],
   "source": [
    "fields = [cond_srf[f\"f{i}\"] for i in range(100)]\n",
    "plt.plot(gridx, cond_srf.krige(only_mean=True), label=\"estimated mean\")\n",
    "plt.plot(gridx, np.mean(fields, axis=0), linestyle=\":\", label=\"Ensemble mean\")\n",
    "plt.plot(gridx, cond_srf.krige.field, linestyle=\"dashed\", label=\"kriged field\")\n",
    "plt.scatter(cond_pos, cond_val, color=\"k\", zorder=10, label=\"Conditions\")\n",
    "# 99 percent confidence interval\n",
    "conf = gs.tools.confidence_scaling(0.99)\n",
    "plt.fill_between(\n",
    "    gridx,\n",
    "    cond_srf.krige.field - conf * np.sqrt(cond_srf.krige.krige_var),\n",
    "    cond_srf.krige.field + conf * np.sqrt(cond_srf.krige.krige_var),\n",
    "    alpha=0.3,\n",
    "    label=\"99% confidence interval\",\n",
    ")\n",
    "plt.legend()\n",
    "plt.show()"
   ]
  },
  {
   "cell_type": "markdown",
   "metadata": {},
   "source": [
    "As you can see, the kriging field coincides with the ensemble mean of the\n",
    "conditioned random fields and the estimated mean\n",
    "is the mean of the far-field.\n",
    "\n"
   ]
  }
 ],
 "metadata": {
  "kernelspec": {
   "display_name": "Python 3 (ipykernel)",
   "language": "python",
   "name": "python3"
  },
  "language_info": {
   "codemirror_mode": {
    "name": "ipython",
    "version": 3
   },
   "file_extension": ".py",
   "mimetype": "text/x-python",
   "name": "python",
   "nbconvert_exporter": "python",
   "pygments_lexer": "ipython3",
   "version": "3.9.12"
  }
 },
 "nbformat": 4,
 "nbformat_minor": 4
}
