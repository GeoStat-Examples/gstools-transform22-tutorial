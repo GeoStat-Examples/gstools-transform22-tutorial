{
 "cells": [
  {
   "cell_type": "code",
   "execution_count": null,
   "metadata": {
    "collapsed": false,
    "jupyter": {
     "outputs_hidden": false
    }
   },
   "outputs": [],
   "source": [
    "%matplotlib widget\n",
    "import matplotlib.pyplot as plt\n",
    "plt.ioff()\n",
    "# turn of warnings\n",
    "import warnings\n",
    "warnings.filterwarnings('ignore')"
   ]
  },
  {
   "cell_type": "markdown",
   "metadata": {},
   "source": [
    "\n",
    "# Introductory example\n",
    "\n",
    "Let us start with a short example of a self defined model (Of course, we\n",
    "provide a lot of predefined models `gstools.covmodel`,\n",
    "but they all work the same way).\n",
    "Therefore we reimplement the Gaussian covariance model\n",
    "by defining just the \"normalized\"\n",
    "[correlation](https://en.wikipedia.org/wiki/Autocovariance#Normalization>) function:"
   ]
  },
  {
   "cell_type": "code",
   "execution_count": null,
   "metadata": {
    "collapsed": false,
    "jupyter": {
     "outputs_hidden": false
    }
   },
   "outputs": [],
   "source": [
    "import numpy as np\n",
    "import gstools as gs\n",
    "\n",
    "# use CovModel as the base-class\n",
    "class Gau(gs.CovModel):\n",
    "    def cor(self, h):\n",
    "        return np.exp(-(h ** 2))"
   ]
  },
  {
   "cell_type": "markdown",
   "metadata": {},
   "source": [
    "Here the parameter `h` stands for the normalized range `r / len_scale`.\n",
    "Now we can instantiate this model:"
   ]
  },
  {
   "cell_type": "code",
   "execution_count": null,
   "metadata": {
    "tags": []
   },
   "outputs": [],
   "source": [
    "model = Gau(dim=2, var=2.0, len_scale=10)\n",
    "ax = model.plot()\n",
    "model.plot(\"covariance\", ax=ax)\n",
    "model.plot(\"correlation\", ax=ax)"
   ]
  },
  {
   "cell_type": "markdown",
   "metadata": {},
   "source": [
    "This is almost identical to the already provided `Gaussian` model.\n",
    "There, a scaling factor is implemented so the len_scale coincides with the\n",
    "integral scale:"
   ]
  },
  {
   "cell_type": "code",
   "execution_count": null,
   "metadata": {
    "collapsed": false,
    "jupyter": {
     "outputs_hidden": false
    }
   },
   "outputs": [],
   "source": [
    "gau_model = gs.Gaussian(dim=2, var=2.0, len_scale=10)\n",
    "ax = gau_model.plot(ax=ax)"
   ]
  },
  {
   "cell_type": "markdown",
   "metadata": {},
   "source": [
    "## Parameters\n",
    "\n",
    "We already used some parameters, which every covariance models has.\n",
    "The basic ones are:\n",
    "\n",
    "- `dim` : dimension of the model\n",
    "- `var` : variance of the model (on top of the subscale variance)\n",
    "- `len_scale` : length scale of the model\n",
    "- `nugget` : nugget (subscale variance) of the model\n",
    "\n",
    "These are the common parameters used to characterize\n",
    "a covariance model and are therefore used by every model in GSTools.\n",
    "You can also access and reset them:"
   ]
  },
  {
   "cell_type": "code",
   "execution_count": null,
   "metadata": {
    "collapsed": false,
    "jupyter": {
     "outputs_hidden": false
    }
   },
   "outputs": [],
   "source": [
    "print(\"old model:\", model)\n",
    "model.dim = 3\n",
    "model.var = 1\n",
    "model.len_scale = 15\n",
    "model.nugget = 0.1\n",
    "print(\"new model:\", model)"
   ]
  },
  {
   "cell_type": "markdown",
   "metadata": {},
   "source": [
    "## Note\n",
    "- The sill of the variogram is calculated by `sill = variance + nugget`\n",
    "     So we treat the variance as everything **above** the nugget,\n",
    "     which is sometimes called **partial sill**.\n",
    "- A covariance model can also have additional parameters."
   ]
  }
 ],
 "metadata": {
  "kernelspec": {
   "display_name": "Python 3 (ipykernel)",
   "language": "python",
   "name": "python3"
  },
  "language_info": {
   "codemirror_mode": {
    "name": "ipython",
    "version": 3
   },
   "file_extension": ".py",
   "mimetype": "text/x-python",
   "name": "python",
   "nbconvert_exporter": "python",
   "pygments_lexer": "ipython3",
   "version": "3.9.12"
  }
 },
 "nbformat": 4,
 "nbformat_minor": 4
}
