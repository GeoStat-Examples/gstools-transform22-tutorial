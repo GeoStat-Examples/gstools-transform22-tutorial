{
 "cells": [
  {
   "cell_type": "code",
   "execution_count": null,
   "metadata": {
    "collapsed": false,
    "jupyter": {
     "outputs_hidden": false
    }
   },
   "outputs": [],
   "source": [
    "%matplotlib widget\n",
    "import matplotlib.pyplot as plt\n",
    "plt.ioff()\n",
    "# turn of warnings\n",
    "import warnings\n",
    "warnings.filterwarnings('ignore')"
   ]
  },
  {
   "cell_type": "markdown",
   "metadata": {},
   "source": [
    "\n",
    "# Anisotropy and Rotation\n",
    "\n",
    "The internally used (semi-) variogram\n",
    "represents the isotropic case for the model.\n",
    "Nevertheless, you can provide anisotropy ratios by:\n"
   ]
  },
  {
   "cell_type": "code",
   "execution_count": null,
   "metadata": {
    "collapsed": false,
    "jupyter": {
     "outputs_hidden": false
    }
   },
   "outputs": [],
   "source": [
    "import gstools as gs\n",
    "\n",
    "model = gs.Gaussian(dim=3, var=2.0, len_scale=10, anis=0.5)\n",
    "print(model)\n",
    "print(model.anis)\n",
    "print(model.len_scale_vec)"
   ]
  },
  {
   "cell_type": "markdown",
   "metadata": {},
   "source": [
    "As you can see, we defined just one anisotropy-ratio\n",
    "and the second transversal direction was filled up with ``1.``.\n",
    "You can get the length-scales in each direction by\n",
    "the attribute :any:`CovModel.len_scale_vec`. For full control you can set\n",
    "a list of anistropy ratios: ``anis=[0.5, 0.4]``.\n",
    "\n",
    "Alternatively you can provide a list of length-scales:\n",
    "\n"
   ]
  },
  {
   "cell_type": "code",
   "execution_count": null,
   "metadata": {
    "collapsed": false,
    "jupyter": {
     "outputs_hidden": false
    }
   },
   "outputs": [],
   "source": [
    "model = gs.Gaussian(dim=3, var=2.0, len_scale=[10, 5, 4])\n",
    "model.plot(\"cov_spatial\")\n",
    "print(\"Anisotropy representations:\")\n",
    "print(\"Anis. ratios:\", model.anis)\n",
    "print(\"Main length scale\", model.len_scale)\n",
    "print(\"All length scales\", model.len_scale_vec)"
   ]
  },
  {
   "cell_type": "markdown",
   "metadata": {},
   "source": [
    "## Rotation Angles\n",
    "\n",
    "The main directions of the field don't have to coincide with the spatial\n",
    "directions $x$, $y$ and $z$. Therefore you can provide\n",
    "rotation angles for the model:\n",
    "\n"
   ]
  },
  {
   "cell_type": "code",
   "execution_count": null,
   "metadata": {
    "collapsed": false,
    "jupyter": {
     "outputs_hidden": false
    }
   },
   "outputs": [],
   "source": [
    "model = gs.Gaussian(dim=3, var=2.0, len_scale=[10, 2], angles=2.5)\n",
    "model.plot(\"cov_spatial\")\n",
    "print(\"Rotation angles\", model.angles)"
   ]
  },
  {
   "cell_type": "markdown",
   "metadata": {},
   "source": [
    "Again, the angles were filled up with `0.` to match the dimension and you\n",
    "could also provide a list of angles. The number of angles depends on the\n",
    "given dimension:\n",
    "\n",
    "- in 1D: no rotation performable\n",
    "- in 2D: given as rotation around z-axis\n",
    "- in 3D: given by yaw, pitch, and roll (known as [Tait–Bryan](https://en.wikipedia.org/wiki/Euler_angles#Tait-Bryan_angles) angles)\n",
    "- in nD: See the random field example about higher dimensions\n",
    "\n"
   ]
  }
 ],
 "metadata": {
  "kernelspec": {
   "display_name": "Python 3 (ipykernel)",
   "language": "python",
   "name": "python3"
  },
  "language_info": {
   "codemirror_mode": {
    "name": "ipython",
    "version": 3
   },
   "file_extension": ".py",
   "mimetype": "text/x-python",
   "name": "python",
   "nbconvert_exporter": "python",
   "pygments_lexer": "ipython3",
   "version": "3.9.12"
  }
 },
 "nbformat": 4,
 "nbformat_minor": 4
}
