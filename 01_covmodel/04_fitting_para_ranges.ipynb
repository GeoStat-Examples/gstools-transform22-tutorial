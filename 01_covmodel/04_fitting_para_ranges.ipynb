{
 "cells": [
  {
   "cell_type": "code",
   "execution_count": null,
   "metadata": {
    "collapsed": false,
    "jupyter": {
     "outputs_hidden": false
    }
   },
   "outputs": [],
   "source": [
    "%matplotlib widget\n",
    "import matplotlib.pyplot as plt\n",
    "plt.ioff()\n",
    "# turn of warnings\n",
    "import warnings\n",
    "warnings.filterwarnings('ignore')"
   ]
  },
  {
   "cell_type": "markdown",
   "metadata": {},
   "source": [
    "\n",
    "# Fitting variogram data\n",
    "\n",
    "The model class comes with a routine to fit the model-parameters to given\n",
    "variogram data. In the following we will use the self defined stable model\n",
    "from a previous example.\n"
   ]
  },
  {
   "cell_type": "code",
   "execution_count": null,
   "metadata": {
    "collapsed": false,
    "jupyter": {
     "outputs_hidden": false
    }
   },
   "outputs": [],
   "source": [
    "import numpy as np\n",
    "import gstools as gs\n",
    "\n",
    "class Stab(gs.CovModel):\n",
    "    def default_opt_arg(self):\n",
    "        return {\"alpha\": 1.5}\n",
    "\n",
    "    def cor(self, h):\n",
    "        return np.exp(-(h ** self.alpha))\n",
    "\n",
    "# Exemplary variogram data (e.g. estimated from field observations)\n",
    "bins = [1.0, 3.0, 5.0, 7.0, 9.0, 11.0]\n",
    "est_vario = [0.2, 0.5, 0.6, 0.8, 0.8, 0.9]\n",
    "# fitting model\n",
    "model = Stab(dim=2)\n",
    "# we have to provide boundaries for the parameters\n",
    "model.set_arg_bounds(alpha=[0, 3])\n",
    "results, pcov = model.fit_variogram(bins, est_vario, nugget=False)\n",
    "print(\"Results:\", results)\n",
    "print(model)"
   ]
  },
  {
   "cell_type": "code",
   "execution_count": null,
   "metadata": {
    "collapsed": false,
    "jupyter": {
     "outputs_hidden": false
    }
   },
   "outputs": [],
   "source": [
    "ax = model.plot()\n",
    "ax.scatter(bins, est_vario, color=\"k\", label=\"sample variogram\")\n",
    "ax.legend()"
   ]
  },
  {
   "cell_type": "markdown",
   "metadata": {},
   "source": [
    "As you can see, we have to provide boundaries for the parameters.\n",
    "As a default, the following bounds are set:\n",
    "\n",
    "- additional parameters: `[-np.inf, np.inf]`\n",
    "- variance: `[0.0, np.inf]`\n",
    "- len_scale: `[0.0, np.inf]`\n",
    "- nugget: `[0.0, np.inf]`\n",
    "\n",
    "Also, you can deselect parameters from fitting, so their predefined values\n",
    "will be kept. In our case, we fixed a `nugget` of `0.0`, which was set\n",
    "by default. You can deselect any standard or optional argument of the covariance model.\n",
    "The second return value `pcov` is the estimated covariance of `popt` from the used scipy routine `scipy.optimize.curve_fit`.\n",
    "\n",
    "You can use the following methods to manipulate the used bounds:\n",
    "\n",
    "-   `CovModel.default_opt_arg_bounds`\n",
    "-   `CovModel.default_arg_bounds`\n",
    "-   `CovModel.set_arg_bounds`\n",
    "-   `CovModel.check_arg_bounds`\n",
    "\n",
    "You can override the `CovModel.default_opt_arg_bounds` to provide standard bounds for your additional parameters.\n",
    "\n",
    "To access the bounds you can use:\n",
    "\n",
    "-   `CovModel.var_bounds`\n",
    "-   `CovModel.len_scale_bounds`\n",
    "-   `CovModel.nugget_bounds`\n",
    "-   `CovModel.opt_arg_bounds`\n",
    "-   `CovModel.arg_bounds`\n",
    "\n"
   ]
  }
 ],
 "metadata": {
  "kernelspec": {
   "display_name": "Python 3 (ipykernel)",
   "language": "python",
   "name": "python3"
  },
  "language_info": {
   "codemirror_mode": {
    "name": "ipython",
    "version": 3
   },
   "file_extension": ".py",
   "mimetype": "text/x-python",
   "name": "python",
   "nbconvert_exporter": "python",
   "pygments_lexer": "ipython3",
   "version": "3.9.12"
  }
 },
 "nbformat": 4,
 "nbformat_minor": 4
}
