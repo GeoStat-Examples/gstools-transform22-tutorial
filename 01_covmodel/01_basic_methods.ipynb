{
 "cells": [
  {
   "cell_type": "code",
   "execution_count": null,
   "metadata": {
    "collapsed": false,
    "jupyter": {
     "outputs_hidden": false
    }
   },
   "outputs": [],
   "source": [
    "%matplotlib widget\n",
    "import matplotlib.pyplot as plt\n",
    "plt.ioff()\n",
    "# turn of warnings\n",
    "import warnings\n",
    "warnings.filterwarnings('ignore')"
   ]
  },
  {
   "cell_type": "markdown",
   "metadata": {
    "tags": []
   },
   "source": [
    "\n",
    "# Basic Methods\n",
    "\n",
    "The covariance model class `CovModel` of GSTools provides a set of handy\n",
    "methods.\n",
    "\n",
    "One of the following functions defines the main characterization of the\n",
    "variogram:\n",
    "\n",
    "- `CovModel.variogram` : The variogram of the model given by\n",
    "\n",
    "  $\\gamma\\left(r\\right)=  \\sigma^2\\cdot\\left(1-\\mathrm{cor}\\left(s\\cdot\\frac{r}{\\ell}\\right)\\right)+n$\n",
    "  \n",
    "- `CovModel.covariance` : The (auto-)covariance of the model given by\n",
    "\n",
    "  $C\\left(r\\right)= \\sigma^2\\cdot\\mathrm{cor}\\left(s\\cdot\\frac{r}{\\ell}\\right)$\n",
    "\n",
    "- `CovModel.correlation` : The (auto-)correlation\n",
    "  (or normalized covariance) of the model given by\n",
    "\n",
    "  $\\rho\\left(r\\right) = \\mathrm{cor}\\left(s\\cdot\\frac{r}{\\ell}\\right)$\n",
    "\n",
    "- `CovModel.cor` : The normalized correlation taking a\n",
    "  normalized range given by:\n",
    "\n",
    "  $\\mathrm{cor}\\left(h\\right)$\n",
    "\n",
    "\n",
    "As you can see, it is the easiest way to define a covariance model by giving a\n",
    "correlation function as demonstrated in the introductory example.\n",
    "If one of the above functions is given, the others will be determined:\n"
   ]
  },
  {
   "cell_type": "code",
   "execution_count": null,
   "metadata": {
    "collapsed": false,
    "jupyter": {
     "outputs_hidden": false
    }
   },
   "outputs": [],
   "source": [
    "import gstools as gs\n",
    "\n",
    "model = gs.Exponential(dim=3, var=2.0, len_scale=10, nugget=0.5)\n",
    "ax = model.plot(\"variogram\")\n",
    "model.plot(\"covariance\", ax=ax)\n",
    "model.plot(\"correlation\", ax=ax)"
   ]
  }
 ],
 "metadata": {
  "kernelspec": {
   "display_name": "Python 3 (ipykernel)",
   "language": "python",
   "name": "python3"
  },
  "language_info": {
   "codemirror_mode": {
    "name": "ipython",
    "version": 3
   },
   "file_extension": ".py",
   "mimetype": "text/x-python",
   "name": "python",
   "nbconvert_exporter": "python",
   "pygments_lexer": "ipython3",
   "version": "3.9.12"
  }
 },
 "nbformat": 4,
 "nbformat_minor": 4
}
