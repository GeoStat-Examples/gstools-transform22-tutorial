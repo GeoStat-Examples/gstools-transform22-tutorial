{
 "cells": [
  {
   "cell_type": "code",
   "execution_count": null,
   "metadata": {
    "collapsed": false,
    "jupyter": {
     "outputs_hidden": false
    }
   },
   "outputs": [],
   "source": [
    "%matplotlib widget\n",
    "import matplotlib.pyplot as plt\n",
    "plt.ioff()\n",
    "# turn of warnings\n",
    "import warnings\n",
    "warnings.filterwarnings('ignore')"
   ]
  },
  {
   "cell_type": "markdown",
   "metadata": {
    "tags": []
   },
   "source": [
    "\n",
    "# Spectral methods\n",
    "\n",
    "The spectrum of a covariance model is given by:\n",
    "\n",
    "\\begin{align}S(\\mathbf{k}) = \\left(\\frac{1}{2\\pi}\\right)^n\n",
    "    \\int C(\\Vert\\mathbf{r}\\Vert) e^{i b\\mathbf{k}\\cdot\\mathbf{r}} d^n\\mathbf{r}\\end{align}\n",
    "\n",
    "Since the covariance function $C(r)$ is radially symmetric, we can\n",
    "calculate this by the [hankel-transformation](https://en.wikipedia.org/wiki/Hankel_transform):\n",
    "\n",
    "\\begin{align}S(k) = \\left(\\frac{1}{2\\pi}\\right)^n \\cdot\n",
    "    \\frac{(2\\pi)^{n/2}}{(bk)^{n/2-1}}\n",
    "    \\int_0^\\infty r^{n/2-1} C(r) J_{n/2-1}(bkr) r dr\\end{align}\n",
    "\n",
    "Where $k=\\left\\Vert\\mathbf{k}\\right\\Vert$.\n",
    "\n",
    "Depending on the spectrum, the spectral-density is defined by:\n",
    "\n",
    "\\begin{align}\\tilde{S}(k) = \\frac{S(k)}{\\sigma^2}\\end{align}\n",
    "\n",
    "You can access these methods by:\n"
   ]
  },
  {
   "cell_type": "code",
   "execution_count": null,
   "metadata": {
    "collapsed": false,
    "jupyter": {
     "outputs_hidden": false
    }
   },
   "outputs": [],
   "source": [
    "import gstools as gs\n",
    "\n",
    "model = gs.Gaussian(dim=3, var=2.0, len_scale=10)\n",
    "ax = model.plot(\"spectrum\")\n",
    "model.plot(\"spectral_density\", ax=ax)"
   ]
  },
  {
   "cell_type": "markdown",
   "metadata": {},
   "source": [
    "## Note\n",
    "The spectral-density is given by the radius of the input phase. But it is **not** a probability density function for the radius of the phase.\n",
    "\n",
    "To obtain the pdf for the phase-radius, you can use the methods `CovModel.spectral_rad_pdf` or `CovModel.ln_spectral_rad_pdf` for the logarithm.\n",
    "\n",
    "The user can also provide a cdf (cumulative distribution function) by defining a method called `spectral_rad_cdf`\n",
    "and/or a ppf (percent-point function) by `spectral_rad_ppf`.\n",
    "\n",
    "The attributes `CovModel.has_cdf` and `CovModel.has_ppf` will check for that."
   ]
  }
 ],
 "metadata": {
  "kernelspec": {
   "display_name": "Python 3 (ipykernel)",
   "language": "python",
   "name": "python3"
  },
  "language_info": {
   "codemirror_mode": {
    "name": "ipython",
    "version": 3
   },
   "file_extension": ".py",
   "mimetype": "text/x-python",
   "name": "python",
   "nbconvert_exporter": "python",
   "pygments_lexer": "ipython3",
   "version": "3.9.12"
  }
 },
 "nbformat": 4,
 "nbformat_minor": 4
}
