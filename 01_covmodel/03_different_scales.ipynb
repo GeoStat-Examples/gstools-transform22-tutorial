{
 "cells": [
  {
   "cell_type": "code",
   "execution_count": null,
   "metadata": {
    "collapsed": false,
    "jupyter": {
     "outputs_hidden": false
    }
   },
   "outputs": [],
   "source": [
    "%matplotlib widget\n",
    "import matplotlib.pyplot as plt\n",
    "plt.ioff()\n",
    "# turn of warnings\n",
    "import warnings\n",
    "warnings.filterwarnings('ignore')"
   ]
  },
  {
   "cell_type": "markdown",
   "metadata": {},
   "source": [
    "\n",
    "# Different scales\n",
    "\n",
    "Besides the length-scale, there are many other ways of characterizing a certain\n",
    "scale of a covariance model. We provide two common scales with the covariance\n",
    "model.\n",
    "\n",
    "## Integral scale\n",
    "\n",
    "The [integral scale](https://en.wikipedia.org/wiki/Integral_length_scale) of a covariance model is calculated by:\n",
    "\n",
    "$I = \\int_0^\\infty \\rho(r) dr$\n",
    "\n",
    "You can access it by:\n"
   ]
  },
  {
   "cell_type": "code",
   "execution_count": null,
   "metadata": {
    "collapsed": false,
    "jupyter": {
     "outputs_hidden": false
    }
   },
   "outputs": [],
   "source": [
    "import gstools as gs\n",
    "\n",
    "model = gs.Stable(dim=3, var=2.0, len_scale=10)\n",
    "print(\"Main integral scale:\", model.integral_scale)\n",
    "print(\"All integral scales:\", model.integral_scale_vec)"
   ]
  },
  {
   "cell_type": "markdown",
   "metadata": {},
   "source": [
    "You can also specify integral length scales like the ordinary length scale,\n",
    "and len_scale/anis will be recalculated:\n",
    "\n"
   ]
  },
  {
   "cell_type": "code",
   "execution_count": null,
   "metadata": {
    "collapsed": false,
    "jupyter": {
     "outputs_hidden": false
    }
   },
   "outputs": [],
   "source": [
    "model = gs.Stable(dim=3, var=2.0, integral_scale=[10, 4, 2])\n",
    "print(\"Anisotropy ratios:\", model.anis)\n",
    "print(\"Main length scale:\", model.len_scale)\n",
    "print(\"All length scales:\", model.len_scale_vec)\n",
    "print(\"Main integral scale:\", model.integral_scale)\n",
    "print(\"All integral scales:\", model.integral_scale_vec)"
   ]
  },
  {
   "cell_type": "markdown",
   "metadata": {},
   "source": [
    "## Percentile scale\n",
    "\n",
    "Another scale characterizing the covariance model, is the percentile scale.\n",
    "It is the distance, where the normalized\n",
    "variogram reaches a certain percentage of its sill.\n",
    "\n"
   ]
  },
  {
   "cell_type": "code",
   "execution_count": null,
   "metadata": {
    "collapsed": false,
    "jupyter": {
     "outputs_hidden": false
    }
   },
   "outputs": [],
   "source": [
    "model = gs.Stable(dim=3, var=2.0, len_scale=10)\n",
    "per_scale = model.percentile_scale(0.9)\n",
    "int_scale = model.integral_scale\n",
    "len_scale = model.len_scale\n",
    "print(\"90% Percentile scale:\", per_scale)\n",
    "print(\"Integral scale:\", int_scale)\n",
    "print(\"Length scale:\", len_scale)"
   ]
  },
  {
   "cell_type": "markdown",
   "metadata": {},
   "source": [
    "## Note\n",
    "The nugget is neglected by the percentile scale.\n",
    "\n",
    "## Comparison"
   ]
  },
  {
   "cell_type": "code",
   "execution_count": null,
   "metadata": {
    "collapsed": false,
    "jupyter": {
     "outputs_hidden": false
    }
   },
   "outputs": [],
   "source": [
    "ax = model.plot()\n",
    "ax.axhline(1.8, color=\"k\", label=r\"90% percentile\")\n",
    "ax.axvline(per_scale, color=\"k\", linestyle=\"--\", label=r\"90% percentile scale\")\n",
    "ax.axvline(int_scale, color=\"k\", linestyle=\"-.\", label=r\"integral scale\")\n",
    "ax.axvline(len_scale, color=\"k\", linestyle=\":\", label=r\"length scale\")\n",
    "ax.legend()"
   ]
  }
 ],
 "metadata": {
  "kernelspec": {
   "display_name": "Python 3 (ipykernel)",
   "language": "python",
   "name": "python3"
  },
  "language_info": {
   "codemirror_mode": {
    "name": "ipython",
    "version": 3
   },
   "file_extension": ".py",
   "mimetype": "text/x-python",
   "name": "python",
   "nbconvert_exporter": "python",
   "pygments_lexer": "ipython3",
   "version": "3.9.12"
  }
 },
 "nbformat": 4,
 "nbformat_minor": 4
}
