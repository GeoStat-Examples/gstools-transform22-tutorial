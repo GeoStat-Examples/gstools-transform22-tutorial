{
 "cells": [
  {
   "cell_type": "code",
   "execution_count": null,
   "metadata": {
    "collapsed": false,
    "jupyter": {
     "outputs_hidden": false
    }
   },
   "outputs": [],
   "source": [
    "%matplotlib widget\n",
    "import matplotlib.pyplot as plt\n",
    "plt.ioff()\n",
    "# turn of warnings\n",
    "import warnings\n",
    "warnings.filterwarnings('ignore')"
   ]
  },
  {
   "cell_type": "markdown",
   "metadata": {},
   "source": [
    "\n",
    "# Additional Parameters\n",
    "\n",
    "Let's pimp our self-defined model ``Gau`` from the introductory example\n",
    "by setting the exponent as an additional parameter:\n",
    "\n",
    "\\begin{align}\\rho(r) := \\exp\\left(-\\left(s\\cdot\\frac{r}{\\ell}\\right)^{\\alpha}\\right)\\end{align}\n",
    "\n",
    "This leads to the so called **stable** covariance model and we can define it by\n"
   ]
  },
  {
   "cell_type": "code",
   "execution_count": null,
   "metadata": {
    "collapsed": false,
    "jupyter": {
     "outputs_hidden": false
    }
   },
   "outputs": [],
   "source": [
    "import numpy as np\n",
    "import gstools as gs\n",
    "\n",
    "class Stab(gs.CovModel):\n",
    "    def default_opt_arg(self):\n",
    "        return {\"alpha\": 1.5}\n",
    "\n",
    "    def cor(self, h):\n",
    "        return np.exp(-(h ** self.alpha))"
   ]
  },
  {
   "cell_type": "markdown",
   "metadata": {},
   "source": [
    "As you can see, we override the method `CovModel.default_opt_arg`\n",
    "to provide a standard value for the optional argument `alpha`.\n",
    "We can access it in the correlation function by `self.alpha`\n",
    "\n",
    "Now we can instantiate this model by either setting alpha implicitly with\n",
    "the default value or explicitly:"
   ]
  },
  {
   "cell_type": "code",
   "execution_count": null,
   "metadata": {
    "collapsed": false,
    "jupyter": {
     "outputs_hidden": false
    }
   },
   "outputs": [],
   "source": [
    "model1 = Stab(dim=2, var=2.0, len_scale=10)\n",
    "model2 = Stab(dim=2, var=2.0, len_scale=10, alpha=0.5)\n",
    "ax = model1.plot()\n",
    "model2.plot(ax=ax)"
   ]
  },
  {
   "cell_type": "markdown",
   "metadata": {},
   "source": [
    "Apparently, the parameter alpha controls the slope of the variogram\n",
    "and consequently the roughness of a generated random field.\n",
    "\n",
    "## Note\n",
    "You don't have to override the `CovModel.default_opt_arg`, but you will get a ValueError if you don't set it on creation."
   ]
  }
 ],
 "metadata": {
  "kernelspec": {
   "display_name": "Python 3 (ipykernel)",
   "language": "python",
   "name": "python3"
  },
  "language_info": {
   "codemirror_mode": {
    "name": "ipython",
    "version": 3
   },
   "file_extension": ".py",
   "mimetype": "text/x-python",
   "name": "python",
   "nbconvert_exporter": "python",
   "pygments_lexer": "ipython3",
   "version": "3.9.12"
  }
 },
 "nbformat": 4,
 "nbformat_minor": 4
}
