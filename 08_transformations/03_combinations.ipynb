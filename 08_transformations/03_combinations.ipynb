{
 "cells": [
  {
   "cell_type": "code",
   "execution_count": null,
   "metadata": {
    "collapsed": false,
    "jupyter": {
     "outputs_hidden": false
    }
   },
   "outputs": [],
   "source": [
    "%matplotlib widget\n",
    "import matplotlib.pyplot as plt\n",
    "plt.ioff()\n",
    "# turn of warnings\n",
    "import warnings\n",
    "warnings.filterwarnings('ignore')"
   ]
  },
  {
   "cell_type": "markdown",
   "metadata": {},
   "source": [
    "\n",
    "# Combinations\n",
    "\n",
    "You can combine different transformations simply by successively applying them.\n",
    "\n",
    "Here, we first force the single field realization to hold the given moments,\n",
    "namely mean and variance.\n",
    "Then we apply the Zinn & Harvey transformation to connect the low values.\n",
    "Afterwards the field is transformed to a binary field and last but not least,\n",
    "we transform it to log-values.\n",
    "\n",
    "We can select the desired field by its name and we can define an output name\n",
    "to store the field.\n",
    "\n",
    "If you don't specify `field` and `store` everything happens inplace.\n"
   ]
  },
  {
   "cell_type": "code",
   "execution_count": null,
   "metadata": {
    "collapsed": false,
    "jupyter": {
     "outputs_hidden": false
    }
   },
   "outputs": [],
   "source": [
    "import gstools as gs\n",
    "\n",
    "# structured field with a size of 100x100 and a grid-size of 1x1\n",
    "x = y = range(101)\n",
    "model = gs.Gaussian(dim=2, var=1, len_scale=10)\n",
    "srf = gs.SRF(model, mean=-9, seed=20220425)\n",
    "srf.structured([x, y])\n",
    "srf.transform(\"force_moments\", field=\"field\", store=\"f_forced\")\n",
    "srf.transform(\"zinnharvey\", field=\"f_forced\", store=\"f_zinnharvey\", conn=\"low\")\n",
    "srf.transform(\"binary\", field=\"f_zinnharvey\", store=\"f_binary\")\n",
    "srf.transform(\"lognormal\", field=\"f_binary\", store=\"f_result\")\n",
    "srf.plot(field=\"f_result\")"
   ]
  },
  {
   "cell_type": "markdown",
   "metadata": {},
   "source": [
    "The resulting field could be interpreted as a transmissivity field, where\n",
    "the values of low permeability are the ones being the most connected\n",
    "and only two kinds of soil exist.\n",
    "\n",
    "All stored fields can be accessed and plotted by name:\n",
    "\n"
   ]
  },
  {
   "cell_type": "code",
   "execution_count": null,
   "metadata": {
    "collapsed": false,
    "jupyter": {
     "outputs_hidden": false
    }
   },
   "outputs": [],
   "source": [
    "print(\"Max binary value:\", srf.f_binary.max())\n",
    "srf.plot(field=\"f_zinnharvey\")"
   ]
  }
 ],
 "metadata": {
  "kernelspec": {
   "display_name": "Python 3 (ipykernel)",
   "language": "python",
   "name": "python3"
  },
  "language_info": {
   "codemirror_mode": {
    "name": "ipython",
    "version": 3
   },
   "file_extension": ".py",
   "mimetype": "text/x-python",
   "name": "python",
   "nbconvert_exporter": "python",
   "pygments_lexer": "ipython3",
   "version": "3.9.12"
  }
 },
 "nbformat": 4,
 "nbformat_minor": 4
}
