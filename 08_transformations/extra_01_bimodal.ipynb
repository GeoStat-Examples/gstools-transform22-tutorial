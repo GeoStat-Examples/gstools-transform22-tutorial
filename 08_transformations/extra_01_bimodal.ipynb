{
 "cells": [
  {
   "cell_type": "code",
   "execution_count": null,
   "metadata": {
    "collapsed": false,
    "jupyter": {
     "outputs_hidden": false
    }
   },
   "outputs": [],
   "source": [
    "%matplotlib widget\n",
    "import matplotlib.pyplot as plt\n",
    "plt.ioff()\n",
    "# turn of warnings\n",
    "import warnings\n",
    "warnings.filterwarnings('ignore')"
   ]
  },
  {
   "cell_type": "markdown",
   "metadata": {},
   "source": [
    "\n",
    "# Bimodal fields\n",
    "\n",
    "We provide two transformations to obtain bimodal distributions:\n",
    "\n",
    "* [arcsin](https://en.wikipedia.org/wiki/Arcsine_distribution)\n",
    "* [uquad](https://en.wikipedia.org/wiki/U-quadratic_distribution)\n",
    "\n",
    "Both transformations will preserve the mean and variance of the given field by default.\n",
    "\n",
    "See: `transform.normal_to_arcsin` and `transform.normal_to_uquad`"
   ]
  },
  {
   "cell_type": "code",
   "execution_count": null,
   "metadata": {
    "collapsed": false,
    "jupyter": {
     "outputs_hidden": false
    }
   },
   "outputs": [],
   "source": [
    "import gstools as gs\n",
    "\n",
    "# structured field with a size of 100x100 and a grid-size of 1x1\n",
    "x = y = range(101)\n",
    "model = gs.Gaussian(dim=2, var=1, len_scale=10)\n",
    "srf = gs.SRF(model, seed=20220425)\n",
    "field = srf.structured([x, y])\n",
    "srf.transform(\"normal_to_arcsin\")  # also \"arcsin\" works\n",
    "srf.plot()"
   ]
  },
  {
   "cell_type": "code",
   "execution_count": null,
   "metadata": {},
   "outputs": [],
   "source": [
    "plt.figure()\n",
    "plt.hist(srf.field.ravel(), bins=50)\n",
    "plt.show()"
   ]
  }
 ],
 "metadata": {
  "kernelspec": {
   "display_name": "Python 3 (ipykernel)",
   "language": "python",
   "name": "python3"
  },
  "language_info": {
   "codemirror_mode": {
    "name": "ipython",
    "version": 3
   },
   "file_extension": ".py",
   "mimetype": "text/x-python",
   "name": "python",
   "nbconvert_exporter": "python",
   "pygments_lexer": "ipython3",
   "version": "3.9.12"
  }
 },
 "nbformat": 4,
 "nbformat_minor": 4
}
