{
 "cells": [
  {
   "cell_type": "code",
   "execution_count": null,
   "metadata": {
    "collapsed": false,
    "jupyter": {
     "outputs_hidden": false
    }
   },
   "outputs": [],
   "source": [
    "%matplotlib widget\n",
    "import matplotlib.pyplot as plt\n",
    "plt.ioff()\n",
    "# turn of warnings\n",
    "import warnings\n",
    "warnings.filterwarnings('ignore')"
   ]
  },
  {
   "cell_type": "markdown",
   "metadata": {},
   "source": [
    "\n",
    "# Discrete fields\n",
    "\n",
    "Here we transform a field to a discrete field with values.\n",
    "If we do not give thresholds, the pairwise means of the given\n",
    "values are taken as thresholds.\n",
    "If thresholds are given, arbitrary values can be applied to the field.\n",
    "\n",
    "See `transform.discrete`\n"
   ]
  },
  {
   "cell_type": "code",
   "execution_count": null,
   "metadata": {
    "collapsed": false,
    "jupyter": {
     "outputs_hidden": false
    }
   },
   "outputs": [],
   "source": [
    "import numpy as np\n",
    "\n",
    "import gstools as gs\n",
    "\n",
    "# Structured field with a size of 100x100 and a grid-size of 0.5x0.5\n",
    "x = y = np.arange(201) * 0.5\n",
    "model = gs.Gaussian(dim=2, var=1, len_scale=5)\n",
    "srf = gs.SRF(model, seed=20220425)\n",
    "field = srf.structured([x, y])"
   ]
  },
  {
   "cell_type": "markdown",
   "metadata": {},
   "source": [
    "Create 5 equidistanly spaced values, thresholds are the arithmetic means\n",
    "\n"
   ]
  },
  {
   "cell_type": "code",
   "execution_count": null,
   "metadata": {
    "collapsed": false,
    "jupyter": {
     "outputs_hidden": false
    }
   },
   "outputs": [],
   "source": [
    "values1 = np.linspace(np.min(srf.field), np.max(srf.field), 5)\n",
    "srf.transform(\"discrete\", store=\"f1\", values=values1)\n",
    "srf.plot(\"f1\")"
   ]
  },
  {
   "cell_type": "markdown",
   "metadata": {},
   "source": [
    "Calculate thresholds for equal shares\n",
    "but apply different values to the separated classes\n",
    "\n"
   ]
  },
  {
   "cell_type": "code",
   "execution_count": null,
   "metadata": {
    "collapsed": false,
    "jupyter": {
     "outputs_hidden": false
    }
   },
   "outputs": [],
   "source": [
    "values2 = [0, -1, 2, -3, 4]\n",
    "srf.transform(\"discrete\", store=\"f2\", values=values2, thresholds=\"equal\")\n",
    "srf.plot(\"f2\")"
   ]
  },
  {
   "cell_type": "markdown",
   "metadata": {},
   "source": [
    "Create user defined thresholds\n",
    "and apply different values to the separated classes\n",
    "\n"
   ]
  },
  {
   "cell_type": "code",
   "execution_count": null,
   "metadata": {
    "collapsed": false,
    "jupyter": {
     "outputs_hidden": false
    }
   },
   "outputs": [],
   "source": [
    "values3 = [0, 1, 10]\n",
    "thresholds = [-1, 1]\n",
    "srf.transform(\"discrete\", store=\"f3\", values=values3, thresholds=thresholds)\n",
    "srf.plot(\"f3\")"
   ]
  }
 ],
 "metadata": {
  "kernelspec": {
   "display_name": "Python 3 (ipykernel)",
   "language": "python",
   "name": "python3"
  },
  "language_info": {
   "codemirror_mode": {
    "name": "ipython",
    "version": 3
   },
   "file_extension": ".py",
   "mimetype": "text/x-python",
   "name": "python",
   "nbconvert_exporter": "python",
   "pygments_lexer": "ipython3",
   "version": "3.9.12"
  }
 },
 "nbformat": 4,
 "nbformat_minor": 4
}
