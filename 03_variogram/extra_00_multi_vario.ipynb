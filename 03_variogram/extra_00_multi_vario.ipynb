{
 "cells": [
  {
   "cell_type": "code",
   "execution_count": null,
   "metadata": {
    "collapsed": false,
    "jupyter": {
     "outputs_hidden": false
    }
   },
   "outputs": [],
   "source": [
    "%matplotlib widget\n",
    "import matplotlib.pyplot as plt\n",
    "plt.ioff()\n",
    "# turn of warnings\n",
    "import warnings\n",
    "warnings.filterwarnings('ignore')"
   ]
  },
  {
   "cell_type": "markdown",
   "metadata": {},
   "source": [
    "\n",
    "# Multi-field variogram estimation\n",
    "\n",
    "In this example, we demonstrate how to estimate a variogram from multiple\n",
    "fields on the same point-set that should have the same statistical properties.\n"
   ]
  },
  {
   "cell_type": "code",
   "execution_count": null,
   "metadata": {},
   "outputs": [],
   "source": [
    "import numpy as np\n",
    "import gstools as gs"
   ]
  },
  {
   "cell_type": "code",
   "execution_count": null,
   "metadata": {
    "collapsed": false,
    "jupyter": {
     "outputs_hidden": false
    }
   },
   "outputs": [],
   "source": [
    "x = np.random.RandomState(19970221).rand(1000) * 100.0\n",
    "y = np.random.RandomState(20011012).rand(1000) * 100.0\n",
    "\n",
    "model = gs.Exponential(dim=2, var=2, len_scale=8)\n",
    "srf = gs.SRF(model, mean=0)"
   ]
  },
  {
   "cell_type": "markdown",
   "metadata": {},
   "source": [
    "Generate two synthetic fields with an exponential model.\n",
    "\n"
   ]
  },
  {
   "cell_type": "code",
   "execution_count": null,
   "metadata": {
    "collapsed": false,
    "jupyter": {
     "outputs_hidden": false
    }
   },
   "outputs": [],
   "source": [
    "field1 = srf((x, y), seed=19970221)\n",
    "field2 = srf((x, y), seed=20011012)\n",
    "fields = [field1, field2]"
   ]
  },
  {
   "cell_type": "markdown",
   "metadata": {},
   "source": [
    "Now we estimate the variograms for both fields individually and then again\n",
    "simultaneously with only one call.\n",
    "\n"
   ]
  },
  {
   "cell_type": "code",
   "execution_count": null,
   "metadata": {
    "collapsed": false,
    "jupyter": {
     "outputs_hidden": false
    }
   },
   "outputs": [],
   "source": [
    "bins = np.arange(40)\n",
    "bin_center, gamma1 = gs.vario_estimate((x, y), field1, bins)\n",
    "bin_center, gamma2 = gs.vario_estimate((x, y), field2, bins)\n",
    "bin_center, gamma = gs.vario_estimate((x, y), fields, bins)"
   ]
  },
  {
   "cell_type": "markdown",
   "metadata": {},
   "source": [
    "Now we demonstrate that the mean variogram from both fields coincides\n",
    "with the joined estimated one.\n",
    "\n"
   ]
  },
  {
   "cell_type": "code",
   "execution_count": null,
   "metadata": {
    "collapsed": false,
    "jupyter": {
     "outputs_hidden": false
    }
   },
   "outputs": [],
   "source": [
    "plt.plot(bin_center, gamma1, label=\"field 1\")\n",
    "plt.plot(bin_center, gamma2, label=\"field 2\")\n",
    "plt.plot(bin_center, gamma, label=\"joined fields\")\n",
    "plt.plot(bin_center, 0.5 * (gamma1 + gamma2), \":\", label=\"field 1+2 mean\")\n",
    "plt.legend()\n",
    "plt.show()"
   ]
  }
 ],
 "metadata": {
  "kernelspec": {
   "display_name": "Python 3 (ipykernel)",
   "language": "python",
   "name": "python3"
  },
  "language_info": {
   "codemirror_mode": {
    "name": "ipython",
    "version": 3
   },
   "file_extension": ".py",
   "mimetype": "text/x-python",
   "name": "python",
   "nbconvert_exporter": "python",
   "pygments_lexer": "ipython3",
   "version": "3.9.12"
  }
 },
 "nbformat": 4,
 "nbformat_minor": 4
}
