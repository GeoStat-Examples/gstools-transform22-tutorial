{
 "cells": [
  {
   "cell_type": "code",
   "execution_count": null,
   "metadata": {
    "collapsed": false,
    "jupyter": {
     "outputs_hidden": false
    }
   },
   "outputs": [],
   "source": [
    "%matplotlib widget\n",
    "import matplotlib.pyplot as plt\n",
    "plt.ioff()\n",
    "# turn of warnings\n",
    "import warnings\n",
    "warnings.filterwarnings('ignore')"
   ]
  },
  {
   "cell_type": "markdown",
   "metadata": {},
   "source": [
    "\n",
    "# Directional variogram estimation and fitting in 2D\n",
    "\n",
    "In this example, we demonstrate how to estimate a directional variogram by\n",
    "setting the direction angles in 2D.\n",
    "\n",
    "Afterwards we will fit a model to this estimated variogram and show the result.\n"
   ]
  },
  {
   "cell_type": "code",
   "execution_count": null,
   "metadata": {
    "collapsed": false,
    "jupyter": {
     "outputs_hidden": false
    }
   },
   "outputs": [],
   "source": [
    "import numpy as np\n",
    "import gstools as gs"
   ]
  },
  {
   "cell_type": "markdown",
   "metadata": {},
   "source": [
    "Generating synthetic field with anisotropy and a rotation of 22.5 degree.\n",
    "\n"
   ]
  },
  {
   "cell_type": "code",
   "execution_count": null,
   "metadata": {
    "collapsed": false,
    "jupyter": {
     "outputs_hidden": false
    }
   },
   "outputs": [],
   "source": [
    "angle = np.pi / 8\n",
    "model = gs.Exponential(dim=2, len_scale=[10, 5], angles=angle)\n",
    "x = y = range(101)\n",
    "srf = gs.SRF(model, seed=20220425)\n",
    "field = srf((x, y), mesh_type=\"structured\")"
   ]
  },
  {
   "cell_type": "markdown",
   "metadata": {},
   "source": [
    "Now we are going to estimate a directional variogram with an angular\n",
    "tolerance of 11.25 degree and a bandwith of 8.\n",
    "\n"
   ]
  },
  {
   "cell_type": "code",
   "execution_count": null,
   "metadata": {
    "collapsed": false,
    "jupyter": {
     "outputs_hidden": false
    }
   },
   "outputs": [],
   "source": [
    "bins = range(0, 40, 2)\n",
    "bin_center, dir_vario, counts = gs.vario_estimate(\n",
    "    pos=(x, y),\n",
    "    field=field,\n",
    "    bin_edges=bins,\n",
    "    direction=gs.rotated_main_axes(dim=2, angles=angle),\n",
    "    angles_tol=np.pi / 16,\n",
    "    bandwidth=8,\n",
    "    mesh_type=\"structured\",\n",
    "    return_counts=True,\n",
    ")"
   ]
  },
  {
   "cell_type": "markdown",
   "metadata": {},
   "source": [
    "Afterwards we can use the estimated variogram to fit a model to it:\n",
    "\n"
   ]
  },
  {
   "cell_type": "code",
   "execution_count": null,
   "metadata": {
    "collapsed": false,
    "jupyter": {
     "outputs_hidden": false
    }
   },
   "outputs": [],
   "source": [
    "print(\"Original:\")\n",
    "print(model)\n",
    "model.fit_variogram(bin_center, dir_vario)\n",
    "print(\"Fitted:\")\n",
    "print(model)"
   ]
  },
  {
   "cell_type": "markdown",
   "metadata": {},
   "source": [
    "Plotting.\n",
    "\n"
   ]
  },
  {
   "cell_type": "code",
   "execution_count": null,
   "metadata": {
    "collapsed": false,
    "jupyter": {
     "outputs_hidden": false
    }
   },
   "outputs": [],
   "source": [
    "fig, (ax1, ax2) = plt.subplots(1, 2, figsize=[10, 5])\n",
    "\n",
    "ax1.scatter(bin_center, dir_vario[0], label=\"emp. vario: 1/8 $\\pi$\")\n",
    "ax1.scatter(bin_center, dir_vario[1], label=\"emp. vario: 5/8 $\\pi$\")\n",
    "ax1.legend(loc=\"lower right\")\n",
    "\n",
    "model.plot(\"vario_axis\", axis=0, ax=ax1, x_max=max(bin_center), label=\"fit on axis 0\")\n",
    "model.plot(\"vario_axis\", axis=1, ax=ax1, x_max=max(bin_center), label=\"fit on axis 1\")\n",
    "ax1.set_title(\"Fitting an anisotropic model\")\n",
    "\n",
    "srf.plot(ax=ax2)\n",
    "ax2.set_aspect(\"equal\")"
   ]
  },
  {
   "cell_type": "markdown",
   "metadata": {},
   "source": [
    "Without fitting a model, we see that the correlation length in the main\n",
    "direction is greater than the transversal one.\n",
    "\n"
   ]
  }
 ],
 "metadata": {
  "kernelspec": {
   "display_name": "Python 3 (ipykernel)",
   "language": "python",
   "name": "python3"
  },
  "language_info": {
   "codemirror_mode": {
    "name": "ipython",
    "version": 3
   },
   "file_extension": ".py",
   "mimetype": "text/x-python",
   "name": "python",
   "nbconvert_exporter": "python",
   "pygments_lexer": "ipython3",
   "version": "3.9.12"
  }
 },
 "nbformat": 4,
 "nbformat_minor": 4
}
