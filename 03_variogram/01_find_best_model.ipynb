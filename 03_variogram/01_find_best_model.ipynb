{
 "cells": [
  {
   "cell_type": "code",
   "execution_count": null,
   "metadata": {
    "collapsed": false,
    "jupyter": {
     "outputs_hidden": false
    }
   },
   "outputs": [],
   "source": [
    "%matplotlib widget\n",
    "import matplotlib.pyplot as plt\n",
    "plt.ioff()\n",
    "# turn of warnings\n",
    "import warnings\n",
    "warnings.filterwarnings('ignore')"
   ]
  },
  {
   "cell_type": "markdown",
   "metadata": {},
   "source": [
    "\n",
    "# Finding the best fitting variogram model\n"
   ]
  },
  {
   "cell_type": "code",
   "execution_count": null,
   "metadata": {
    "collapsed": false,
    "jupyter": {
     "outputs_hidden": false
    }
   },
   "outputs": [],
   "source": [
    "import numpy as np\n",
    "import gstools as gs"
   ]
  },
  {
   "cell_type": "markdown",
   "metadata": {},
   "source": [
    "Generate a synthetic field with an exponential model.\n",
    "\n"
   ]
  },
  {
   "cell_type": "code",
   "execution_count": null,
   "metadata": {
    "collapsed": false,
    "jupyter": {
     "outputs_hidden": false
    }
   },
   "outputs": [],
   "source": [
    "x = np.random.RandomState(20220425).rand(1000) * 100.0\n",
    "y = np.random.RandomState(20220426).rand(1000) * 100.0\n",
    "\n",
    "model = gs.Exponential(dim=2, var=2, len_scale=8)\n",
    "srf = gs.SRF(model, mean=0, seed=20220425)\n",
    "field = srf((x, y))"
   ]
  },
  {
   "cell_type": "markdown",
   "metadata": {},
   "source": [
    "Estimate the variogram of the field with 40 bins and plot the result.\n",
    "\n"
   ]
  },
  {
   "cell_type": "code",
   "execution_count": null,
   "metadata": {
    "collapsed": false,
    "jupyter": {
     "outputs_hidden": false
    }
   },
   "outputs": [],
   "source": [
    "bin_center, gamma = gs.vario_estimate((x, y), field)"
   ]
  },
  {
   "cell_type": "markdown",
   "metadata": {},
   "source": [
    "Define a set of models to test.\n",
    "\n"
   ]
  },
  {
   "cell_type": "code",
   "execution_count": null,
   "metadata": {
    "collapsed": false,
    "jupyter": {
     "outputs_hidden": false
    }
   },
   "outputs": [],
   "source": [
    "models = {\n",
    "    \"Gaussian\": gs.Gaussian,\n",
    "    \"Exponential\": gs.Exponential,\n",
    "    \"Matern\": gs.Matern,\n",
    "    \"Stable\": gs.Stable,\n",
    "    \"Rational\": gs.Rational,\n",
    "    \"Circular\": gs.Circular,\n",
    "    \"Spherical\": gs.Spherical,\n",
    "    \"SuperSpherical\": gs.SuperSpherical,\n",
    "    \"JBessel\": gs.JBessel,\n",
    "}\n",
    "scores = {}"
   ]
  },
  {
   "cell_type": "markdown",
   "metadata": {},
   "source": [
    "Iterate over all models, fit their variogram and calculate the r2 score.\n",
    "\n"
   ]
  },
  {
   "cell_type": "code",
   "execution_count": null,
   "metadata": {
    "collapsed": false,
    "jupyter": {
     "outputs_hidden": false
    }
   },
   "outputs": [],
   "source": [
    "# plot the estimated variogram\n",
    "plt.scatter(bin_center, gamma, color=\"k\", label=\"data\")\n",
    "ax = plt.gca()\n",
    "\n",
    "# fit all models to the estimated variogram\n",
    "for name, model in models.items():\n",
    "    fit_model = model(dim=2)\n",
    "    para, pcov, r2 = fit_model.fit_variogram(bin_center, gamma, return_r2=True)\n",
    "    fit_model.plot(x_max=max(bin_center), ax=ax)\n",
    "    scores[name] = r2"
   ]
  },
  {
   "cell_type": "markdown",
   "metadata": {},
   "source": [
    "Create a ranking based on the score and determine the best models\n",
    "\n"
   ]
  },
  {
   "cell_type": "code",
   "execution_count": null,
   "metadata": {
    "collapsed": false,
    "jupyter": {
     "outputs_hidden": false
    }
   },
   "outputs": [],
   "source": [
    "ranking = sorted(scores.items(), key=lambda item: item[1], reverse=True)\n",
    "print(\"RANKING by Pseudo-r2 score\")\n",
    "for i, (model, score) in enumerate(ranking, 1):\n",
    "    print(f\"{i:>6}. {model:>15}: {score:.5}\")"
   ]
  }
 ],
 "metadata": {
  "kernelspec": {
   "display_name": "Python 3 (ipykernel)",
   "language": "python",
   "name": "python3"
  },
  "language_info": {
   "codemirror_mode": {
    "name": "ipython",
    "version": 3
   },
   "file_extension": ".py",
   "mimetype": "text/x-python",
   "name": "python",
   "nbconvert_exporter": "python",
   "pygments_lexer": "ipython3",
   "version": "3.9.12"
  }
 },
 "nbformat": 4,
 "nbformat_minor": 4
}
