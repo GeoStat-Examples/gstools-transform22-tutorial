{
 "cells": [
  {
   "cell_type": "code",
   "execution_count": null,
   "metadata": {
    "collapsed": false,
    "jupyter": {
     "outputs_hidden": false
    }
   },
   "outputs": [],
   "source": [
    "%matplotlib widget\n",
    "import matplotlib.pyplot as plt\n",
    "plt.ioff()\n",
    "# turn of warnings\n",
    "import warnings\n",
    "warnings.filterwarnings('ignore')"
   ]
  },
  {
   "cell_type": "markdown",
   "metadata": {},
   "source": [
    "\n",
    "# Automatic binning with lat-lon data\n",
    "\n",
    "In this example we demonstrate automatic binning for a tiny data set\n",
    "containing temperature records from Germany\n",
    "(See the detailed DWD example for more information on the data).\n",
    "\n",
    "We use a data set from 20 meteo-stations choosen randomly.\n"
   ]
  },
  {
   "cell_type": "code",
   "execution_count": null,
   "metadata": {
    "collapsed": false,
    "jupyter": {
     "outputs_hidden": false
    }
   },
   "outputs": [],
   "source": [
    "import numpy as np\n",
    "import gstools as gs\n",
    "\n",
    "# lat, lon, temperature\n",
    "data = np.array(\n",
    "    [\n",
    "        [52.9336, 8.237, 15.7],\n",
    "        [48.6159, 13.0506, 13.9],\n",
    "        [52.4853, 7.9126, 15.1],\n",
    "        [50.7446, 9.345, 17.0],\n",
    "        [52.9437, 12.8518, 21.9],\n",
    "        [53.8633, 8.1275, 11.9],\n",
    "        [47.8342, 10.8667, 11.4],\n",
    "        [51.0881, 12.9326, 17.2],\n",
    "        [48.406, 11.3117, 12.9],\n",
    "        [49.7273, 8.1164, 17.2],\n",
    "        [49.4691, 11.8546, 13.4],\n",
    "        [48.0197, 12.2925, 13.9],\n",
    "        [50.4237, 7.4202, 18.1],\n",
    "        [53.0316, 13.9908, 21.3],\n",
    "        [53.8412, 13.6846, 21.3],\n",
    "        [54.6792, 13.4343, 17.4],\n",
    "        [49.9694, 9.9114, 18.6],\n",
    "        [51.3745, 11.292, 20.2],\n",
    "        [47.8774, 11.3643, 12.7],\n",
    "        [50.5908, 12.7139, 15.8],\n",
    "    ]\n",
    ")\n",
    "lat, lon = data.T[:2]  # lat, lon\n",
    "field = data.T[2]  # temperature\n",
    "plt.scatter(lon, lat, c=field, label=\"temperature / °C\")\n",
    "plt.xlabel(\"lat\")\n",
    "plt.ylabel(\"lon\")\n",
    "plt.legend()\n",
    "plt.show()"
   ]
  },
  {
   "cell_type": "markdown",
   "metadata": {},
   "source": [
    "Since the overall range of these meteo-stations is too low, we can use the\n",
    "data-variance as additional information during the fit of the variogram.\n",
    "\n"
   ]
  },
  {
   "cell_type": "code",
   "execution_count": null,
   "metadata": {
    "collapsed": false,
    "jupyter": {
     "outputs_hidden": false
    }
   },
   "outputs": [],
   "source": [
    "# estimate\n",
    "bin_center, vario = gs.vario_estimate((lat, lon), field, latlon=True)\n",
    "# fit\n",
    "model = gs.Spherical(latlon=True, rescale=gs.EARTH_RADIUS)\n",
    "model.fit_variogram(bin_center, vario, sill=np.var(field))\n",
    "# show\n",
    "ax = model.plot(\"vario_yadrenko\", x_max=2*np.max(bin_center))\n",
    "ax.scatter(bin_center, vario, label=\"Empirical variogram\")\n",
    "ax.legend()\n",
    "print(model)"
   ]
  },
  {
   "cell_type": "markdown",
   "metadata": {},
   "source": [
    "As we can see, the variogram fitting was successful and providing the data\n",
    "variance helped finding the right length-scale.\n",
    "\n",
    "Now, we'll use this covariance model to interpolate the given data with\n",
    "ordinary kriging.\n",
    "\n"
   ]
  },
  {
   "cell_type": "code",
   "execution_count": null,
   "metadata": {
    "collapsed": false,
    "jupyter": {
     "outputs_hidden": false
    }
   },
   "outputs": [],
   "source": [
    "# enclosing box for data points\n",
    "grid_lat = np.linspace(np.min(lat), np.max(lat))\n",
    "grid_lon = np.linspace(np.min(lon), np.max(lon))\n",
    "# ordinary kriging\n",
    "krige = gs.krige.Ordinary(model, (lat, lon), field)\n",
    "krige.structured((grid_lat, grid_lon))\n",
    "ax = krige.plot()\n",
    "# plotting lat on y-axis and lon on x-axis\n",
    "ax.scatter(lon, lat, 50, c=field, edgecolors=\"k\", label=\"input\")\n",
    "ax.legend()"
   ]
  },
  {
   "cell_type": "markdown",
   "metadata": {},
   "source": [
    "Looks good, doesn't it?\n",
    "\n",
    "This workflow is also implemented in the `Krige` class, by setting\n",
    "`fit_variogram=True`. Then the whole procedure shortens:"
   ]
  },
  {
   "cell_type": "code",
   "execution_count": null,
   "metadata": {
    "collapsed": false,
    "jupyter": {
     "outputs_hidden": false
    }
   },
   "outputs": [],
   "source": [
    "krige = gs.krige.Ordinary(model, (lat, lon), field, fit_variogram=True)\n",
    "krige.structured((grid_lat, grid_lon))\n",
    "\n",
    "# plot the result\n",
    "krige.plot()\n",
    "# show the fitting results\n",
    "print(krige.model)"
   ]
  },
  {
   "cell_type": "markdown",
   "metadata": {},
   "source": [
    "This example shows, that setting up variogram estimation and kriging routines\n",
    "is straight forward with GSTools!\n",
    "\n"
   ]
  }
 ],
 "metadata": {
  "kernelspec": {
   "display_name": "Python 3 (ipykernel)",
   "language": "python",
   "name": "python3"
  },
  "language_info": {
   "codemirror_mode": {
    "name": "ipython",
    "version": 3
   },
   "file_extension": ".py",
   "mimetype": "text/x-python",
   "name": "python",
   "nbconvert_exporter": "python",
   "pygments_lexer": "ipython3",
   "version": "3.9.12"
  }
 },
 "nbformat": 4,
 "nbformat_minor": 4
}
