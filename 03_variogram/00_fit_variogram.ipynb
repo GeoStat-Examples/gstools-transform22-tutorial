{
 "cells": [
  {
   "cell_type": "code",
   "execution_count": null,
   "metadata": {
    "collapsed": false,
    "jupyter": {
     "outputs_hidden": false
    }
   },
   "outputs": [],
   "source": [
    "%matplotlib widget\n",
    "import matplotlib.pyplot as plt\n",
    "plt.ioff()\n",
    "# turn of warnings\n",
    "import warnings\n",
    "warnings.filterwarnings('ignore')"
   ]
  },
  {
   "cell_type": "markdown",
   "metadata": {},
   "source": [
    "\n",
    "# Fit Variogram\n"
   ]
  },
  {
   "cell_type": "code",
   "execution_count": null,
   "metadata": {
    "collapsed": false,
    "jupyter": {
     "outputs_hidden": false
    }
   },
   "outputs": [],
   "source": [
    "import numpy as np\n",
    "import gstools as gs"
   ]
  },
  {
   "cell_type": "markdown",
   "metadata": {},
   "source": [
    "Generate a synthetic field with an exponential model.\n",
    "\n"
   ]
  },
  {
   "cell_type": "code",
   "execution_count": null,
   "metadata": {
    "collapsed": false,
    "jupyter": {
     "outputs_hidden": false
    }
   },
   "outputs": [],
   "source": [
    "x = np.random.RandomState(20220425).rand(1000) * 100.0\n",
    "y = np.random.RandomState(20220426).rand(1000) * 100.0\n",
    "\n",
    "model = gs.Exponential(dim=2, var=2, len_scale=8)\n",
    "srf = gs.SRF(model, mean=1, seed=20220425)\n",
    "field = srf((x, y))\n",
    "# scatter plot\n",
    "fig, ax = plt.subplots()\n",
    "ax.scatter(x, y, c=field)\n",
    "ax.set_aspect(\"equal\")\n",
    "fig.show()"
   ]
  },
  {
   "cell_type": "markdown",
   "metadata": {},
   "source": [
    "Estimate and fit the variogram with a stable model (no nugget fitted)."
   ]
  },
  {
   "cell_type": "code",
   "execution_count": null,
   "metadata": {
    "collapsed": false,
    "jupyter": {
     "outputs_hidden": false
    }
   },
   "outputs": [],
   "source": [
    "# estimate\n",
    "bin_center, gamma = gs.vario_estimate((x, y), field)\n",
    "# fit\n",
    "fit_model = gs.Stable(dim=2)\n",
    "fit_model.fit_variogram(bin_center, gamma, nugget=False)\n",
    "ax = fit_model.plot(x_max=max(bin_center))\n",
    "ax.scatter(bin_center, gamma)\n",
    "print(fit_model)"
   ]
  }
 ],
 "metadata": {
  "kernelspec": {
   "display_name": "Python 3 (ipykernel)",
   "language": "python",
   "name": "python3"
  },
  "language_info": {
   "codemirror_mode": {
    "name": "ipython",
    "version": 3
   },
   "file_extension": ".py",
   "mimetype": "text/x-python",
   "name": "python",
   "nbconvert_exporter": "python",
   "pygments_lexer": "ipython3",
   "version": "3.9.12"
  }
 },
 "nbformat": 4,
 "nbformat_minor": 4
}
