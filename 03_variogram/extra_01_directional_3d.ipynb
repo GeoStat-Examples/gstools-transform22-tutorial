{
 "cells": [
  {
   "cell_type": "code",
   "execution_count": null,
   "metadata": {
    "collapsed": false,
    "jupyter": {
     "outputs_hidden": false
    }
   },
   "outputs": [],
   "source": [
    "%matplotlib widget\n",
    "import matplotlib.pyplot as plt\n",
    "plt.ioff()\n",
    "# turn of warnings\n",
    "import warnings\n",
    "warnings.filterwarnings('ignore')"
   ]
  },
  {
   "cell_type": "markdown",
   "metadata": {},
   "source": [
    "\n",
    "# Directional variogram estimation and fitting in 3D\n",
    "\n",
    "In this example, we demonstrate how to estimate a directional variogram by\n",
    "setting the estimation directions in 3D.\n",
    "\n",
    "Afterwards we will fit a model to this estimated variogram and show the result.\n"
   ]
  },
  {
   "cell_type": "code",
   "execution_count": null,
   "metadata": {
    "collapsed": false,
    "jupyter": {
     "outputs_hidden": false
    }
   },
   "outputs": [],
   "source": [
    "from mpl_toolkits.mplot3d import Axes3D\n",
    "import numpy as np\n",
    "import gstools as gs"
   ]
  },
  {
   "cell_type": "markdown",
   "metadata": {},
   "source": [
    "Generating synthetic field with anisotropy and rotation by Tait-Bryan angles.\n",
    "\n"
   ]
  },
  {
   "cell_type": "code",
   "execution_count": null,
   "metadata": {
    "collapsed": false,
    "jupyter": {
     "outputs_hidden": false
    }
   },
   "outputs": [],
   "source": [
    "dim = 3\n",
    "# rotation around z, y, x\n",
    "angles = [np.deg2rad(90), np.deg2rad(45), np.deg2rad(22.5)]\n",
    "model = gs.Gaussian(dim=3, len_scale=[16, 8, 4], angles=angles)\n",
    "x = y = z = range(50)\n",
    "pos = (x, y, z)\n",
    "srf = gs.SRF(model, seed=1001)\n",
    "field = srf.structured(pos)"
   ]
  },
  {
   "cell_type": "markdown",
   "metadata": {},
   "source": [
    "Here we generate the axes of the rotated coordinate system\n",
    "to get an impression what the rotation angles do.\n",
    "\n"
   ]
  },
  {
   "cell_type": "code",
   "execution_count": null,
   "metadata": {
    "collapsed": false,
    "jupyter": {
     "outputs_hidden": false
    }
   },
   "outputs": [],
   "source": [
    "# All 3 axes of the rotated coordinate-system\n",
    "main_axes = gs.rotated_main_axes(dim, angles)\n",
    "axis1, axis2, axis3 = main_axes"
   ]
  },
  {
   "cell_type": "markdown",
   "metadata": {},
   "source": [
    "Now we estimate the variogram along the main axes. When the main axes are\n",
    "unknown, one would need to sample multiple directions and look for the one\n",
    "with the longest correlation length (flattest gradient).\n",
    "Then check the transversal directions and so on.\n",
    "\n"
   ]
  },
  {
   "cell_type": "code",
   "execution_count": null,
   "metadata": {
    "collapsed": false,
    "jupyter": {
     "outputs_hidden": false
    }
   },
   "outputs": [],
   "source": [
    "bin_center, dir_vario, counts = gs.vario_estimate(\n",
    "    pos,\n",
    "    field,\n",
    "    direction=main_axes,\n",
    "    bandwidth=10,\n",
    "    sampling_size=2000,\n",
    "    sampling_seed=1001,\n",
    "    mesh_type=\"structured\",\n",
    "    return_counts=True,\n",
    ")"
   ]
  },
  {
   "cell_type": "markdown",
   "metadata": {},
   "source": [
    "Afterwards we can use the estimated variogram to fit a model to it.\n",
    "Note, that the rotation angles need to be set beforehand.\n",
    "\n"
   ]
  },
  {
   "cell_type": "code",
   "execution_count": null,
   "metadata": {
    "collapsed": false,
    "jupyter": {
     "outputs_hidden": false
    }
   },
   "outputs": [],
   "source": [
    "print(\"Original:\")\n",
    "print(model)\n",
    "model.fit_variogram(bin_center, dir_vario)\n",
    "print(\"Fitted:\")\n",
    "print(model)"
   ]
  },
  {
   "cell_type": "markdown",
   "metadata": {},
   "source": [
    "Plotting main axes and the fitted directional variogram.\n",
    "\n"
   ]
  },
  {
   "cell_type": "code",
   "execution_count": null,
   "metadata": {
    "collapsed": false,
    "jupyter": {
     "outputs_hidden": false
    }
   },
   "outputs": [],
   "source": [
    "fig = plt.figure(figsize=[10, 5])\n",
    "ax1 = fig.add_subplot(121, projection=Axes3D.name)\n",
    "ax2 = fig.add_subplot(122)\n",
    "\n",
    "ax1.plot([0, axis1[0]], [0, axis1[1]], [0, axis1[2]], label=\"0.\")\n",
    "ax1.plot([0, axis2[0]], [0, axis2[1]], [0, axis2[2]], label=\"1.\")\n",
    "ax1.plot([0, axis3[0]], [0, axis3[1]], [0, axis3[2]], label=\"2.\")\n",
    "ax1.set_xlim(-1, 1)\n",
    "ax1.set_ylim(-1, 1)\n",
    "ax1.set_zlim(-1, 1)\n",
    "ax1.set_xlabel(\"X\")\n",
    "ax1.set_ylabel(\"Y\")\n",
    "ax1.set_zlabel(\"Z\")\n",
    "ax1.set_title(\"Tait-Bryan main axis\")\n",
    "ax1.legend(loc=\"lower left\")\n",
    "\n",
    "x_max = max(bin_center)\n",
    "ax2.scatter(bin_center, dir_vario[0], label=\"0. axis\")\n",
    "ax2.scatter(bin_center, dir_vario[1], label=\"1. axis\")\n",
    "ax2.scatter(bin_center, dir_vario[2], label=\"2. axis\")\n",
    "model.plot(\"vario_axis\", axis=0, ax=ax2, x_max=x_max, label=\"fit on axis 0\")\n",
    "model.plot(\"vario_axis\", axis=1, ax=ax2, x_max=x_max, label=\"fit on axis 1\")\n",
    "model.plot(\"vario_axis\", axis=2, ax=ax2, x_max=x_max, label=\"fit on axis 2\")\n",
    "ax2.set_title(\"Fitting an anisotropic model\")\n",
    "ax2.legend()"
   ]
  },
  {
   "cell_type": "markdown",
   "metadata": {},
   "source": [
    "Also, let's have a look at the field.\n",
    "\n"
   ]
  },
  {
   "cell_type": "code",
   "execution_count": null,
   "metadata": {
    "collapsed": false,
    "jupyter": {
     "outputs_hidden": false
    }
   },
   "outputs": [],
   "source": [
    "srf.plot()"
   ]
  }
 ],
 "metadata": {
  "kernelspec": {
   "display_name": "Python 3 (ipykernel)",
   "language": "python",
   "name": "python3"
  },
  "language_info": {
   "codemirror_mode": {
    "name": "ipython",
    "version": 3
   },
   "file_extension": ".py",
   "mimetype": "text/x-python",
   "name": "python",
   "nbconvert_exporter": "python",
   "pygments_lexer": "ipython3",
   "version": "3.9.12"
  }
 },
 "nbformat": 4,
 "nbformat_minor": 4
}
