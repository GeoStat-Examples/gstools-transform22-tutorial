{
 "cells": [
  {
   "cell_type": "code",
   "execution_count": null,
   "metadata": {
    "collapsed": false,
    "jupyter": {
     "outputs_hidden": false
    }
   },
   "outputs": [],
   "source": [
    "%matplotlib widget\n",
    "import matplotlib.pyplot as plt\n",
    "plt.ioff()\n",
    "# turn of warnings\n",
    "import warnings\n",
    "warnings.filterwarnings('ignore')"
   ]
  },
  {
   "cell_type": "markdown",
   "metadata": {},
   "source": [
    "\n",
    "# Redundant data and pseudo-inverse\n",
    "\n",
    "It can happen, that the kriging system gets numerically unstable.\n",
    "One reason could be, that the input data contains redundant conditioning points\n",
    "that hold different values.\n",
    "\n",
    "To smoothly deal with such situations, you can use the pseudo\n",
    "inverse for the kriging matrix, which is enabled by default.\n",
    "\n",
    "This will result in the average value for the redundant data.\n",
    "\n",
    "## Example\n",
    "\n",
    "In the following we have two different values at the same location.\n",
    "The resulting kriging field will hold the average at this point.\n"
   ]
  },
  {
   "cell_type": "code",
   "execution_count": null,
   "metadata": {
    "collapsed": false,
    "jupyter": {
     "outputs_hidden": false
    }
   },
   "outputs": [],
   "source": [
    "import numpy as np\n",
    "import gstools as gs\n",
    "\n",
    "# condtions\n",
    "cond_pos = [0.3, 1.9, 1.1, 3.3, 1.1]\n",
    "cond_val = [0.47, 0.56, 0.74, 1.47, 1.14]\n",
    "# resulting grid\n",
    "gridx = np.linspace(0.0, 8.0, 81)\n",
    "# spatial random field class\n",
    "model = gs.Gaussian(dim=1, var=0.5, len_scale=1)"
   ]
  },
  {
   "cell_type": "code",
   "execution_count": null,
   "metadata": {
    "collapsed": false,
    "jupyter": {
     "outputs_hidden": false
    }
   },
   "outputs": [],
   "source": [
    "krig = gs.krige.Ordinary(model, cond_pos=cond_pos, cond_val=cond_val)\n",
    "field, var = krig(gridx)"
   ]
  },
  {
   "cell_type": "code",
   "execution_count": null,
   "metadata": {
    "collapsed": false,
    "jupyter": {
     "outputs_hidden": false
    }
   },
   "outputs": [],
   "source": [
    "ax = krig.plot()\n",
    "ax.scatter(cond_pos, cond_val, color=\"k\", zorder=10, label=\"Conditions\")\n",
    "ax.legend()"
   ]
  }
 ],
 "metadata": {
  "kernelspec": {
   "display_name": "Python 3 (ipykernel)",
   "language": "python",
   "name": "python3"
  },
  "language_info": {
   "codemirror_mode": {
    "name": "ipython",
    "version": 3
   },
   "file_extension": ".py",
   "mimetype": "text/x-python",
   "name": "python",
   "nbconvert_exporter": "python",
   "pygments_lexer": "ipython3",
   "version": "3.9.12"
  }
 },
 "nbformat": 4,
 "nbformat_minor": 4
}
