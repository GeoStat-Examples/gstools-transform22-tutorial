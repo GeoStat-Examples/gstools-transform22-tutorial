{
 "cells": [
  {
   "cell_type": "code",
   "execution_count": null,
   "metadata": {
    "collapsed": false,
    "jupyter": {
     "outputs_hidden": false
    }
   },
   "outputs": [],
   "source": [
    "%matplotlib widget\n",
    "import matplotlib.pyplot as plt\n",
    "plt.ioff()\n",
    "# turn of warnings\n",
    "import warnings\n",
    "warnings.filterwarnings('ignore')"
   ]
  },
  {
   "cell_type": "markdown",
   "metadata": {},
   "source": [
    "\n",
    "# External Drift Kriging\n"
   ]
  },
  {
   "cell_type": "code",
   "execution_count": null,
   "metadata": {
    "collapsed": false,
    "jupyter": {
     "outputs_hidden": false
    }
   },
   "outputs": [],
   "source": [
    "import numpy as np\n",
    "import gstools as gs\n",
    "\n",
    "# synthetic condtions with a drift\n",
    "drift_model = gs.Gaussian(dim=1, len_scale=4)\n",
    "drift = gs.SRF(drift_model, seed=1010)\n",
    "cond_pos = [0.3, 1.9, 1.1, 3.3, 4.7]\n",
    "ext_drift = drift(cond_pos)\n",
    "cond_val = ext_drift * 2 + 1\n",
    "# resulting grid\n",
    "gridx = np.linspace(0.0, 15.0, 151)\n",
    "grid_drift = drift(gridx)"
   ]
  },
  {
   "cell_type": "code",
   "execution_count": null,
   "metadata": {},
   "outputs": [],
   "source": [
    "# kriging\n",
    "model = gs.Gaussian(dim=1, var=2, len_scale=4)\n",
    "krig = gs.krige.ExtDrift(model, cond_pos, cond_val, ext_drift)\n",
    "krig(gridx, ext_drift=grid_drift)\n",
    "ax = krig.plot()\n",
    "ax.scatter(cond_pos, cond_val, color=\"k\", zorder=10, label=\"Conditions\")\n",
    "ax.plot(gridx, grid_drift, label=\"drift\")\n",
    "ax.legend()"
   ]
  },
  {
   "cell_type": "code",
   "execution_count": null,
   "metadata": {},
   "outputs": [],
   "source": [
    "#krig2 = gs.krige.Ordinary(model, cond_pos, cond_val)\n",
    "#krig2(gridx)\n",
    "#ax = krig2.plot(ax=ax)"
   ]
  }
 ],
 "metadata": {
  "kernelspec": {
   "display_name": "Python 3 (ipykernel)",
   "language": "python",
   "name": "python3"
  },
  "language_info": {
   "codemirror_mode": {
    "name": "ipython",
    "version": 3
   },
   "file_extension": ".py",
   "mimetype": "text/x-python",
   "name": "python",
   "nbconvert_exporter": "python",
   "pygments_lexer": "ipython3",
   "version": "3.9.12"
  }
 },
 "nbformat": 4,
 "nbformat_minor": 4
}
