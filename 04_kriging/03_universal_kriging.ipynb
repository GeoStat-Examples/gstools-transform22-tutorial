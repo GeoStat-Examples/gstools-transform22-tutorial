{
 "cells": [
  {
   "cell_type": "code",
   "execution_count": null,
   "metadata": {
    "collapsed": false,
    "jupyter": {
     "outputs_hidden": false
    }
   },
   "outputs": [],
   "source": [
    "%matplotlib widget\n",
    "import matplotlib.pyplot as plt\n",
    "plt.ioff()\n",
    "# turn of warnings\n",
    "import warnings\n",
    "warnings.filterwarnings('ignore')"
   ]
  },
  {
   "cell_type": "markdown",
   "metadata": {},
   "source": [
    "\n",
    "# Universal Kriging\n",
    "\n",
    "You can give a polynomial order or a list of self defined\n",
    "functions representing the internal drift of the given values.\n",
    "This drift will be fitted internally during the kriging interpolation.\n",
    "\n",
    "In the following we are creating artificial data, where a linear drift\n",
    "was added. The resulting samples are then used as input for Universal kriging.\n",
    "\n",
    "The \"linear\" drift is then estimated during the interpolation.\n",
    "To access only the estimated mean/drift, we provide a switch `only_mean`\n",
    "in the call routine.\n"
   ]
  },
  {
   "cell_type": "code",
   "execution_count": null,
   "metadata": {
    "collapsed": false,
    "jupyter": {
     "outputs_hidden": false
    }
   },
   "outputs": [],
   "source": [
    "import numpy as np\n",
    "import gstools as gs\n",
    "\n",
    "# synthetic condtions with a drift\n",
    "drift_model = gs.Gaussian(dim=1, var=0.1, len_scale=2)\n",
    "drift = gs.SRF(drift_model, seed=101)\n",
    "cond_pos = np.linspace(0.1, 8, 10)\n",
    "# adding a drift\n",
    "cond_val = drift(cond_pos) + cond_pos * 0.1 + 1\n",
    "# resulting grid\n",
    "gridx = np.linspace(0.0, 15.0, 151)\n",
    "drift_field = drift(gridx) + gridx * 0.1 + 1"
   ]
  },
  {
   "cell_type": "code",
   "execution_count": null,
   "metadata": {},
   "outputs": [],
   "source": [
    "# kriging\n",
    "model = gs.Gaussian(dim=1, var=0.1, len_scale=2)\n",
    "krig = gs.krige.Universal(model, cond_pos, cond_val, drift_functions=\"linear\")\n",
    "krig(gridx)\n",
    "ax = krig.plot()\n",
    "ax.scatter(cond_pos, cond_val, color=\"k\", zorder=10, label=\"Conditions\")\n",
    "ax.plot(gridx, gridx * 0.1 + 1, \":\", label=\"linear drift\")\n",
    "ax.plot(gridx, drift_field, \"--\", label=\"original field\")\n",
    "\n",
    "mean = krig(gridx, only_mean=True)\n",
    "ax.plot(gridx, mean, label=\"estimated drift\")\n",
    "\n",
    "ax.legend()"
   ]
  }
 ],
 "metadata": {
  "kernelspec": {
   "display_name": "Python 3 (ipykernel)",
   "language": "python",
   "name": "python3"
  },
  "language_info": {
   "codemirror_mode": {
    "name": "ipython",
    "version": 3
   },
   "file_extension": ".py",
   "mimetype": "text/x-python",
   "name": "python",
   "nbconvert_exporter": "python",
   "pygments_lexer": "ipython3",
   "version": "3.9.12"
  }
 },
 "nbformat": 4,
 "nbformat_minor": 4
}
