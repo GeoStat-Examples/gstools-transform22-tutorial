{
 "cells": [
  {
   "cell_type": "code",
   "execution_count": null,
   "metadata": {
    "collapsed": false,
    "jupyter": {
     "outputs_hidden": false
    }
   },
   "outputs": [],
   "source": [
    "%matplotlib widget\n",
    "import matplotlib.pyplot as plt\n",
    "plt.ioff()\n",
    "# turn of warnings\n",
    "import warnings\n",
    "warnings.filterwarnings('ignore')"
   ]
  },
  {
   "cell_type": "markdown",
   "metadata": {},
   "source": [
    "\n",
    "# Ordinary Kriging\n",
    "\n",
    "Ordinary kriging will estimate an appropriate mean of the field,\n",
    "based on the given observations/conditions and the covariance model used.\n",
    "\n",
    "The resulting system of equations for $W$ is given by:\n",
    "\n",
    "\\begin{align}\\begin{pmatrix}W\\\\\\mu\\end{pmatrix} = \\begin{pmatrix}\n",
    "   C(x_1,x_1) & \\cdots & C(x_1,x_n) &1 \\\\\n",
    "   \\vdots & \\ddots & \\vdots  & \\vdots \\\\\n",
    "   C(x_n,x_1) & \\cdots & C(x_n,x_n) & 1 \\\\\n",
    "   1 &\\cdots& 1 & 0\n",
    "   \\end{pmatrix}^{-1}\n",
    "   \\begin{pmatrix}C(x_1,x_0) \\\\ \\vdots \\\\ C(x_n,x_0) \\\\ 1\\end{pmatrix}\\end{align}\n",
    "\n",
    "Here, $C(x_i,x_j)$ is the directional covariance of the given observations\n",
    "and $\\mu$ is a Lagrange multiplier to minimize the kriging error and estimate the mean.\n",
    "\n",
    "\n",
    "## Example\n",
    "\n",
    "Here we use ordinary kriging in 1D (for plotting reasons) with 5 given observations/conditions.\n",
    "The estimated mean can be accessed by ``krig.mean``.\n"
   ]
  },
  {
   "cell_type": "code",
   "execution_count": null,
   "metadata": {
    "collapsed": false,
    "jupyter": {
     "outputs_hidden": false
    }
   },
   "outputs": [],
   "source": [
    "import numpy as np\n",
    "import gstools as gs\n",
    "\n",
    "# condtions\n",
    "cond_pos = [0.3, 1.9, 1.1, 3.3, 4.7]\n",
    "cond_val = [0.47, 0.56, 0.74, 1.47, 1.74]\n",
    "# resulting grid\n",
    "gridx = np.linspace(0.0, 15.0, 151)\n",
    "# spatial random field class\n",
    "model = gs.Gaussian(dim=1, var=0.5, len_scale=2)"
   ]
  },
  {
   "cell_type": "code",
   "execution_count": null,
   "metadata": {
    "collapsed": false,
    "jupyter": {
     "outputs_hidden": false
    }
   },
   "outputs": [],
   "source": [
    "krig = gs.Krige(model, cond_pos=cond_pos, cond_val=cond_val, unbiased=True)\n",
    "field, var = krig(gridx)"
   ]
  },
  {
   "cell_type": "code",
   "execution_count": null,
   "metadata": {
    "collapsed": false,
    "jupyter": {
     "outputs_hidden": false
    }
   },
   "outputs": [],
   "source": [
    "ax = krig.plot()\n",
    "ax.scatter(cond_pos, cond_val, color=\"k\", zorder=10, label=\"Conditions\")\n",
    "ax.legend()"
   ]
  },
  {
   "cell_type": "code",
   "execution_count": null,
   "metadata": {},
   "outputs": [],
   "source": [
    "krig.get_mean()"
   ]
  }
 ],
 "metadata": {
  "kernelspec": {
   "display_name": "Python 3 (ipykernel)",
   "language": "python",
   "name": "python3"
  },
  "language_info": {
   "codemirror_mode": {
    "name": "ipython",
    "version": 3
   },
   "file_extension": ".py",
   "mimetype": "text/x-python",
   "name": "python",
   "nbconvert_exporter": "python",
   "pygments_lexer": "ipython3",
   "version": "3.9.12"
  }
 },
 "nbformat": 4,
 "nbformat_minor": 4
}
