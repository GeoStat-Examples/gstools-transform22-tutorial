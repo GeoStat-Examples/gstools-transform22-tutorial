{
 "cells": [
  {
   "cell_type": "code",
   "execution_count": null,
   "metadata": {
    "collapsed": false,
    "jupyter": {
     "outputs_hidden": false
    }
   },
   "outputs": [],
   "source": [
    "%matplotlib widget\n",
    "import matplotlib.pyplot as plt\n",
    "plt.ioff()\n",
    "# turn of warnings\n",
    "import warnings\n",
    "warnings.filterwarnings('ignore')"
   ]
  },
  {
   "cell_type": "markdown",
   "metadata": {},
   "source": [
    "\n",
    "# Detrended Kriging\n"
   ]
  },
  {
   "cell_type": "code",
   "execution_count": null,
   "metadata": {
    "collapsed": false,
    "jupyter": {
     "outputs_hidden": false
    }
   },
   "outputs": [],
   "source": [
    "import numpy as np\n",
    "import gstools as gs\n",
    "\n",
    "\n",
    "def trend(*pos):\n",
    "    \"\"\"Example for a simple linear trend.\"\"\"\n",
    "    return pos[0] * 0.1 + 1\n",
    "\n",
    "\n",
    "# synthetic condtions with trend/drift\n",
    "drift_model = gs.Gaussian(dim=1, var=0.1, len_scale=2)\n",
    "drift = gs.SRF(drift_model, seed=101, trend=trend)\n",
    "cond_pos = np.linspace(0.1, 8, 10)\n",
    "cond_val = drift(cond_pos)\n",
    "# resulting grid\n",
    "gridx = np.linspace(0.0, 15.0, 151)\n",
    "drift_field = drift(gridx)"
   ]
  },
  {
   "cell_type": "code",
   "execution_count": null,
   "metadata": {},
   "outputs": [],
   "source": [
    "# kriging\n",
    "model = gs.Gaussian(dim=1, var=0.1, len_scale=2)\n",
    "krig_trend = gs.krige.Detrended(model, cond_pos, cond_val, trend)\n",
    "krig_trend(gridx)\n",
    "ax = krig_trend.plot()\n",
    "ax.scatter(cond_pos, cond_val, color=\"k\", zorder=10, label=\"Conditions\")\n",
    "ax.plot(gridx, trend(gridx), \":\", label=\"linear trend\")\n",
    "ax.plot(gridx, drift_field, \"--\", label=\"original field\")\n",
    "ax.legend()"
   ]
  }
 ],
 "metadata": {
  "kernelspec": {
   "display_name": "Python 3 (ipykernel)",
   "language": "python",
   "name": "python3"
  },
  "language_info": {
   "codemirror_mode": {
    "name": "ipython",
    "version": 3
   },
   "file_extension": ".py",
   "mimetype": "text/x-python",
   "name": "python",
   "nbconvert_exporter": "python",
   "pygments_lexer": "ipython3",
   "version": "3.9.12"
  }
 },
 "nbformat": 4,
 "nbformat_minor": 4
}
