{
 "cells": [
  {
   "cell_type": "code",
   "execution_count": null,
   "metadata": {
    "collapsed": false,
    "jupyter": {
     "outputs_hidden": false
    }
   },
   "outputs": [],
   "source": [
    "%matplotlib widget\n",
    "import matplotlib.pyplot as plt\n",
    "plt.ioff()\n",
    "# turn of warnings\n",
    "import warnings\n",
    "warnings.filterwarnings('ignore')"
   ]
  },
  {
   "cell_type": "markdown",
   "metadata": {},
   "source": [
    "\n",
    "# Simple Kriging\n",
    "\n",
    "Simple kriging assumes a known mean of the data.\n",
    "For simplicity we assume a mean of 0,\n",
    "which can be achieved by subtracting the mean from the observed values and\n",
    "subsequently adding it to the resulting data.\n",
    "\n",
    "The resulting equation system for $W$ is given by:\n",
    "\n",
    "\\begin{align}W = \\begin{pmatrix}C(x_1,x_1) & \\cdots & C(x_1,x_n) \\\\\n",
    "   \\vdots & \\ddots & \\vdots  \\\\\n",
    "   C(x_n,x_1) & \\cdots & C(x_n,x_n)\n",
    "   \\end{pmatrix}^{-1}\n",
    "   \\begin{pmatrix}C(x_1,x_0) \\\\ \\vdots \\\\ C(x_n,x_0) \\end{pmatrix}\\end{align}\n",
    "\n",
    "Here, $C(x_i,x_j)$ is the directional covariance of the given observations.\n",
    "\n",
    "\n",
    "## Example\n",
    "\n",
    "Here we use simple kriging in 1D (for plotting reasons) with 5 given observations/conditions.\n",
    "The mean of the field has to be given beforehand.\n"
   ]
  },
  {
   "cell_type": "code",
   "execution_count": null,
   "metadata": {
    "collapsed": false,
    "jupyter": {
     "outputs_hidden": false
    }
   },
   "outputs": [],
   "source": [
    "import numpy as np\n",
    "import gstools as gs\n",
    "\n",
    "# condtions\n",
    "cond_pos = [0.3, 1.9, 1.1, 3.3, 4.7]\n",
    "cond_val = [0.47, 0.56, 0.74, 1.47, 1.74]\n",
    "# resulting grid\n",
    "gridx = np.linspace(0.0, 15.0, 151)\n",
    "# spatial random field class\n",
    "model = gs.Gaussian(dim=1, var=0.5, len_scale=2)"
   ]
  },
  {
   "cell_type": "code",
   "execution_count": null,
   "metadata": {
    "collapsed": false,
    "jupyter": {
     "outputs_hidden": false
    }
   },
   "outputs": [],
   "source": [
    "krig = gs.krige.Simple(\n",
    "    model,\n",
    "    mean=1,\n",
    "    cond_pos=cond_pos, \n",
    "    cond_val=cond_val,\n",
    ")\n",
    "field, var = krig(gridx)"
   ]
  },
  {
   "cell_type": "code",
   "execution_count": null,
   "metadata": {
    "collapsed": false,
    "jupyter": {
     "outputs_hidden": false
    }
   },
   "outputs": [],
   "source": [
    "ax = krig.plot()\n",
    "ax.scatter(cond_pos, cond_val, color=\"k\", zorder=10, label=\"Conditions\")\n",
    "ax.legend()"
   ]
  }
 ],
 "metadata": {
  "kernelspec": {
   "display_name": "Python 3 (ipykernel)",
   "language": "python",
   "name": "python3"
  },
  "language_info": {
   "codemirror_mode": {
    "name": "ipython",
    "version": 3
   },
   "file_extension": ".py",
   "mimetype": "text/x-python",
   "name": "python",
   "nbconvert_exporter": "python",
   "pygments_lexer": "ipython3",
   "version": "3.9.12"
  }
 },
 "nbformat": 4,
 "nbformat_minor": 4
}
