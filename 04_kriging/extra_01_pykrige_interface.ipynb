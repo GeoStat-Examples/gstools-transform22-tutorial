{
 "cells": [
  {
   "cell_type": "code",
   "execution_count": null,
   "metadata": {
    "collapsed": false,
    "jupyter": {
     "outputs_hidden": false
    }
   },
   "outputs": [],
   "source": [
    "%matplotlib widget\n",
    "import matplotlib.pyplot as plt\n",
    "plt.ioff()\n",
    "# turn of warnings\n",
    "import warnings\n",
    "warnings.filterwarnings('ignore')"
   ]
  },
  {
   "cell_type": "markdown",
   "metadata": {},
   "source": [
    "\n",
    "# Interface to PyKrige\n",
    "\n",
    "To use fancier methods like [regression kriging](https://en.wikipedia.org/wiki/Regression-kriging), we provide an interface to\n",
    "[PyKrige](https://github.com/GeoStat-Framework/PyKrige) (>v1.5), which means\n",
    "you can pass a GSTools covariance model to the kriging routines of PyKrige.\n",
    "\n",
    "To demonstrate the general workflow, we compare ordinary kriging of PyKrige\n",
    "with the corresponding GSTools routine in 2D:"
   ]
  },
  {
   "cell_type": "code",
   "execution_count": null,
   "metadata": {
    "collapsed": false,
    "jupyter": {
     "outputs_hidden": false
    }
   },
   "outputs": [],
   "source": [
    "import numpy as np\n",
    "from matplotlib import pyplot as plt\n",
    "from pykrige.ok import OrdinaryKriging\n",
    "import gstools as gs\n",
    "\n",
    "# conditioning data\n",
    "cond_x = [0.3, 1.9, 1.1, 3.3, 4.7]\n",
    "cond_y = [1.2, 0.6, 3.2, 4.4, 3.8]\n",
    "cond_val = [0.47, 0.56, 0.74, 1.47, 1.74]\n",
    "\n",
    "# grid definition for output field\n",
    "gridx = np.arange(0.0, 5.5, 0.1)\n",
    "gridy = np.arange(0.0, 6.5, 0.1)"
   ]
  },
  {
   "cell_type": "markdown",
   "metadata": {},
   "source": [
    "A GSTools based `Gaussian` covariance model:Gaussian"
   ]
  },
  {
   "cell_type": "code",
   "execution_count": null,
   "metadata": {
    "collapsed": false,
    "jupyter": {
     "outputs_hidden": false
    }
   },
   "outputs": [],
   "source": [
    "model = gs.Gaussian(\n",
    "    dim=2, len_scale=1, anis=0.2, angles=-0.5, var=0.5, nugget=0.1\n",
    ")"
   ]
  },
  {
   "cell_type": "markdown",
   "metadata": {},
   "source": [
    "## Ordinary Kriging with PyKrige\n",
    "\n",
    "One can pass the defined GSTools model as\n",
    "variogram model, which will `not` be fitted to the given data.\n",
    "By providing the GSTools model, rotation and anisotropy are also\n",
    "automatically defined:\n",
    "\n"
   ]
  },
  {
   "cell_type": "code",
   "execution_count": null,
   "metadata": {
    "collapsed": false,
    "jupyter": {
     "outputs_hidden": false
    }
   },
   "outputs": [],
   "source": [
    "OK1 = OrdinaryKriging(cond_x, cond_y, cond_val, variogram_model=model)\n",
    "z1, ss1 = OK1.execute(\"grid\", gridx, gridy)\n",
    "plt.imshow(z1, origin=\"lower\")\n",
    "plt.show()"
   ]
  },
  {
   "cell_type": "markdown",
   "metadata": {},
   "source": [
    "## Ordinary Kriging with GSTools\n",
    "\n",
    "The `Ordinary` kriging class is provided by GSTools as a shortcut to\n",
    "define ordinary kriging with the general `Krige` class.\n",
    "\n",
    "PyKrige's routines are using exact kriging by default (when given a nugget).\n",
    "To reproduce this behavior in GSTools, we have to set `exact=True`."
   ]
  },
  {
   "cell_type": "code",
   "execution_count": null,
   "metadata": {
    "collapsed": false,
    "jupyter": {
     "outputs_hidden": false
    }
   },
   "outputs": [],
   "source": [
    "OK2 = gs.krige.Ordinary(model, [cond_x, cond_y], cond_val, exact=True)\n",
    "OK2.structured([gridx, gridy])\n",
    "ax = OK2.plot()\n",
    "ax.set_aspect(\"equal\")"
   ]
  }
 ],
 "metadata": {
  "kernelspec": {
   "display_name": "Python 3 (ipykernel)",
   "language": "python",
   "name": "python3"
  },
  "language_info": {
   "codemirror_mode": {
    "name": "ipython",
    "version": 3
   },
   "file_extension": ".py",
   "mimetype": "text/x-python",
   "name": "python",
   "nbconvert_exporter": "python",
   "pygments_lexer": "ipython3",
   "version": "3.9.12"
  }
 },
 "nbformat": 4,
 "nbformat_minor": 4
}
