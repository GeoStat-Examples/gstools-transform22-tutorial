{
 "cells": [
  {
   "cell_type": "code",
   "execution_count": null,
   "metadata": {
    "collapsed": false,
    "jupyter": {
     "outputs_hidden": false
    }
   },
   "outputs": [],
   "source": [
    "%matplotlib widget\n",
    "import matplotlib.pyplot as plt\n",
    "plt.ioff()\n",
    "# turn of warnings\n",
    "import warnings\n",
    "warnings.filterwarnings('ignore')"
   ]
  },
  {
   "cell_type": "markdown",
   "metadata": {},
   "source": [
    "\n",
    "# Incorporating measurement errors\n",
    "\n",
    "To incorporate the nugget effect and/or given measurement errors,\n",
    "one can set `exact` to `False` and provide either individual measurement errors\n",
    "for each point or set the nugget as a constant measurement error everywhere.\n",
    "\n",
    "In the following we will show the influence of the nugget and\n",
    "measurement errors.\n"
   ]
  },
  {
   "cell_type": "code",
   "execution_count": null,
   "metadata": {
    "collapsed": false,
    "jupyter": {
     "outputs_hidden": false
    }
   },
   "outputs": [],
   "source": [
    "import numpy as np\n",
    "\n",
    "import gstools as gs\n",
    "\n",
    "# condtions\n",
    "cond_pos = [0.3, 1.1, 1.9, 3.3, 4.7]\n",
    "cond_val = [0.47, 0.74, 0.56, 1.47, 1.74]\n",
    "cond_err = [0.01, 0.0, 0.1, 0.05, 0]\n",
    "# resulting grid\n",
    "gridx = np.linspace(0.0, 15.0, 151)\n",
    "# spatial random field class\n",
    "model = gs.Gaussian(dim=1, var=0.9, len_scale=1, nugget=0.1)"
   ]
  },
  {
   "cell_type": "markdown",
   "metadata": {},
   "source": [
    "Here we will use Simple kriging (`unbiased=False`) to interpolate the given\n",
    "conditions.\n",
    "\n"
   ]
  },
  {
   "cell_type": "code",
   "execution_count": null,
   "metadata": {
    "collapsed": false,
    "jupyter": {
     "outputs_hidden": false
    }
   },
   "outputs": [],
   "source": [
    "krig = gs.Krige(\n",
    "    model=model,\n",
    "    cond_pos=cond_pos,\n",
    "    cond_val=cond_val,\n",
    "    mean=1,\n",
    "    unbiased=False,\n",
    "    exact=False,\n",
    "    cond_err=cond_err,\n",
    ")\n",
    "field, var = krig(gridx)"
   ]
  },
  {
   "cell_type": "markdown",
   "metadata": {},
   "source": [
    "Let's plot the data. You can see, that the estimated values differ more from\n",
    "the input, when the given measurement errors get bigger.\n",
    "In addition we plot the standard deviation.\n",
    "\n"
   ]
  },
  {
   "cell_type": "code",
   "execution_count": null,
   "metadata": {
    "collapsed": false,
    "jupyter": {
     "outputs_hidden": false
    }
   },
   "outputs": [],
   "source": [
    "ax = krig.plot()\n",
    "ax.scatter(cond_pos, cond_val, color=\"k\", zorder=10, label=\"Conditions\")\n",
    "conf = gs.tools.confidence_scaling(0.7)\n",
    "ax.fill_between(\n",
    "    gridx,\n",
    "    # plus/minus standard deviation (70 percent confidence interval)\n",
    "    krig.field - conf * np.sqrt(krig.krige_var),\n",
    "    krig.field + conf * np.sqrt(krig.krige_var),\n",
    "    alpha=0.3,\n",
    "    label=\"70 percent confidence interval\",\n",
    ")\n",
    "ax.legend()"
   ]
  }
 ],
 "metadata": {
  "kernelspec": {
   "display_name": "Python 3 (ipykernel)",
   "language": "python",
   "name": "python3"
  },
  "language_info": {
   "codemirror_mode": {
    "name": "ipython",
    "version": 3
   },
   "file_extension": ".py",
   "mimetype": "text/x-python",
   "name": "python",
   "nbconvert_exporter": "python",
   "pygments_lexer": "ipython3",
   "version": "3.9.12"
  }
 },
 "nbformat": 4,
 "nbformat_minor": 4
}
