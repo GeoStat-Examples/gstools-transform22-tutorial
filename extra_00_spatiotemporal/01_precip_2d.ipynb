{
 "cells": [
  {
   "cell_type": "code",
   "execution_count": null,
   "metadata": {
    "collapsed": false,
    "jupyter": {
     "outputs_hidden": false
    }
   },
   "outputs": [],
   "source": [
    "%matplotlib widget\n",
    "import matplotlib.pyplot as plt\n",
    "plt.ioff()\n",
    "# turn of warnings\n",
    "import warnings\n",
    "warnings.filterwarnings('ignore')"
   ]
  },
  {
   "cell_type": "markdown",
   "metadata": {},
   "source": [
    "\n",
    "# Creating a 2D Synthetic Precipitation Field\n",
    "\n",
    "In this example we'll create a time series of a 2D synthetic precipitation\n",
    "field.\n",
    "\n",
    "Very similar to the previous tutorial, we'll start off by creating a Gaussian\n",
    "random field with an exponential variogram, which seems to reproduce the\n",
    "spatial correlations of precipitation fields quite well. We'll create a daily\n",
    "timeseries over a two dimensional domain of 50km x 40km. This workflow is\n",
    "suited for sub daily precipitation time series.\n"
   ]
  },
  {
   "cell_type": "code",
   "execution_count": null,
   "metadata": {
    "collapsed": false,
    "jupyter": {
     "outputs_hidden": false
    }
   },
   "outputs": [],
   "source": [
    "import matplotlib.animation as animation\n",
    "import numpy as np\n",
    "import gstools as gs\n",
    "\n",
    "# fix the seed for reproducibility\n",
    "seed = 20170521\n",
    "# 1st spatial axis of 50km with a resolution of 1km\n",
    "x = np.arange(0, 50, 1.0)\n",
    "# 2nd spatial axis of 40km with a resolution of 1km\n",
    "y = np.arange(0, 40, 1.0)\n",
    "# half daily timesteps over three months\n",
    "t = np.arange(0.0, 90.0, 0.5)\n",
    "\n",
    "# total spatio-temporal dimension\n",
    "st_dim = 2 + 1\n",
    "# space-time anisotropy ratio given in units d / km\n",
    "st_anis = 0.4\n",
    "\n",
    "# an exponential variogram with a corr. lengths of 5km, 5km, and 2d\n",
    "model = gs.Exponential(dim=st_dim, var=1.0, len_scale=5.0, anis=st_anis)\n",
    "# create a spatial random field instance\n",
    "srf = gs.SRF(model, seed=seed)\n",
    "\n",
    "pos, time = [x, y], [t]\n",
    "\n",
    "# the Gaussian random field\n",
    "srf.structured(pos + time)\n",
    "\n",
    "# account for the skewness and the dry periods\n",
    "cutoff = 0.55\n",
    "gs.transform.boxcox(srf, lmbda=0.5, shift=-1.0 / cutoff)\n",
    "\n",
    "# adjust the amount of precipitation\n",
    "amount = 4.0\n",
    "srf.field *= amount"
   ]
  },
  {
   "cell_type": "markdown",
   "metadata": {},
   "source": [
    "plot the 2d precipitation field over time as an animation.\n",
    "\n"
   ]
  },
  {
   "cell_type": "code",
   "execution_count": null,
   "metadata": {
    "collapsed": false,
    "jupyter": {
     "outputs_hidden": false
    }
   },
   "outputs": [],
   "source": [
    "def _update_ani(time_step):\n",
    "    im.set_array(srf.field[:, :, time_step].T)\n",
    "    return (im,)\n",
    "\n",
    "\n",
    "fig, ax = plt.subplots()\n",
    "im = ax.imshow(\n",
    "    srf.field[:, :, 0].T,\n",
    "    cmap=\"Blues\",\n",
    "    interpolation=\"bicubic\",\n",
    "    origin=\"lower\",\n",
    ")\n",
    "cbar = fig.colorbar(im)\n",
    "cbar.ax.set_ylabel(r\"Precipitation $P$ / mm\")\n",
    "ax.set_xlabel(r\"$x$ / km\")\n",
    "ax.set_ylabel(r\"$y$ / km\")\n",
    "\n",
    "ani = animation.FuncAnimation(\n",
    "    fig, _update_ani, len(t), interval=100, blit=True\n",
    ")\n",
    "fig.show()"
   ]
  }
 ],
 "metadata": {
  "kernelspec": {
   "display_name": "Python 3 (ipykernel)",
   "language": "python",
   "name": "python3"
  },
  "language_info": {
   "codemirror_mode": {
    "name": "ipython",
    "version": 3
   },
   "file_extension": ".py",
   "mimetype": "text/x-python",
   "name": "python",
   "nbconvert_exporter": "python",
   "pygments_lexer": "ipython3",
   "version": "3.9.12"
  }
 },
 "nbformat": 4,
 "nbformat_minor": 4
}
