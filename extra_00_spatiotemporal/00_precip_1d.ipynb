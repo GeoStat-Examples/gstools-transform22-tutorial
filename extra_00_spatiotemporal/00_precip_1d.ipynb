{
 "cells": [
  {
   "cell_type": "code",
   "execution_count": null,
   "metadata": {
    "collapsed": false,
    "jupyter": {
     "outputs_hidden": false
    }
   },
   "outputs": [],
   "source": [
    "%matplotlib widget\n",
    "import matplotlib.pyplot as plt\n",
    "plt.ioff()\n",
    "# turn of warnings\n",
    "import warnings\n",
    "warnings.filterwarnings('ignore')"
   ]
  },
  {
   "cell_type": "markdown",
   "metadata": {},
   "source": [
    "\n",
    "# Creating a 1D Synthetic Precipitation Field\n",
    "\n",
    "In this example we will create a time series of a 1D synthetic precipitation\n",
    "field.\n",
    "\n",
    "We'll start off by creating a Gaussian random field with an exponential\n",
    "variogram, which seems to reproduce the spatial correlations of precipitation\n",
    "fields quite well. We'll create a daily timeseries over a one dimensional cross\n",
    "section of 50km. This workflow is suited for sub daily precipitation time\n",
    "series.\n"
   ]
  },
  {
   "cell_type": "code",
   "execution_count": null,
   "metadata": {
    "collapsed": false,
    "jupyter": {
     "outputs_hidden": false
    }
   },
   "outputs": [],
   "source": [
    "import copy\n",
    "import numpy as np\n",
    "import gstools as gs\n",
    "\n",
    "# fix the seed for reproducibility\n",
    "seed = 20170521\n",
    "# spatial axis of 50km with a resolution of 1km\n",
    "x = np.arange(0, 50, 1.0)\n",
    "# half daily timesteps over three months\n",
    "t = np.arange(0.0, 90.0, 0.5)\n",
    "\n",
    "# total spatio-temporal dimension\n",
    "st_dim = 1 + 1\n",
    "# space-time anisotropy ratio given in units d / km\n",
    "st_anis = 0.4\n",
    "\n",
    "# an exponential variogram with a corr. lengths of 2d and 5km\n",
    "model = gs.Exponential(dim=st_dim, var=1.0, len_scale=5.0, anis=st_anis)\n",
    "# create a spatial random field instance\n",
    "srf = gs.SRF(model, seed=seed)\n",
    "\n",
    "pos, time = [x], [t]\n",
    "\n",
    "# a Gaussian random field which is also saved internally for the transformations\n",
    "srf.structured(pos + time)\n",
    "P_gau = copy.deepcopy(srf.field)"
   ]
  },
  {
   "cell_type": "markdown",
   "metadata": {},
   "source": [
    "Next, we could take care of the dry periods. Therefore we would simply\n",
    "introduce a lower threshold value. But we will combine this step with the\n",
    "next one. Anyway, for demonstration purposes, we will also do it with the\n",
    "threshold value now.\n",
    "\n"
   ]
  },
  {
   "cell_type": "code",
   "execution_count": null,
   "metadata": {
    "collapsed": false,
    "jupyter": {
     "outputs_hidden": false
    }
   },
   "outputs": [],
   "source": [
    "threshold = 0.85\n",
    "P_cut = copy.deepcopy(srf.field)\n",
    "P_cut[P_cut <= threshold] = 0.0"
   ]
  },
  {
   "cell_type": "markdown",
   "metadata": {},
   "source": [
    "With the above lines of code we have created a cut off Gaussian spatial\n",
    "random field with an exponential variogram. But precipitation fields are not\n",
    "distributed Gaussian. Thus, we will now transform the field with an inverse\n",
    "box-cox transformation (create a non-Gaussian field) , which is often used to\n",
    "account for the skewness of precipitation fields. Different values have been\n",
    "suggested for the transformation parameter lambda, but we will stick to 1/2.\n",
    "As already mentioned, we will perform the cutoff for the dry periods with\n",
    "this transformation implicitly with the shift. The warning will tell you\n",
    "that values have indeed been cut off and it can be ignored. We call the\n",
    "resulting field Gaussian anamorphosis.\n",
    "\n"
   ]
  },
  {
   "cell_type": "code",
   "execution_count": null,
   "metadata": {
    "collapsed": false,
    "jupyter": {
     "outputs_hidden": false
    }
   },
   "outputs": [],
   "source": [
    "# the lower this value, the more will be cut off, a value of 0.2 cuts off\n",
    "# nearly everything in this example.\n",
    "cutoff = 0.55\n",
    "t_field = srf.transform(\"boxcox\", lmbda=0.5, shift=-1.0 / cutoff)"
   ]
  },
  {
   "cell_type": "markdown",
   "metadata": {},
   "source": [
    "As a last step, the amount of precipitation is set. This should of course be\n",
    "calibrated towards observations (the same goes for the threshold, the\n",
    "variance, correlation length, and so on).\n",
    "\n"
   ]
  },
  {
   "cell_type": "code",
   "execution_count": null,
   "metadata": {
    "collapsed": false,
    "jupyter": {
     "outputs_hidden": false
    }
   },
   "outputs": [],
   "source": [
    "amount = 2.0\n",
    "srf.field *= amount\n",
    "P_ana = srf.field"
   ]
  },
  {
   "cell_type": "markdown",
   "metadata": {},
   "source": [
    "Finally we can have a look at the fields resulting from each step. Note, that\n",
    "the cutoff of the cut Gaussian only approximates the cutoff values from the\n",
    "box-cox transformation. For a closer look, we will examine a cross section\n",
    "at an arbitrary location. And afterwards we will create a contour plot for\n",
    "visual candy.\n",
    "\n"
   ]
  },
  {
   "cell_type": "code",
   "execution_count": null,
   "metadata": {
    "collapsed": false,
    "jupyter": {
     "outputs_hidden": false
    }
   },
   "outputs": [],
   "source": [
    "fig, axs = plt.subplots(2, 2, sharex=True, sharey=True)\n",
    "\n",
    "axs[0, 0].set_title(\"Gaussian\")\n",
    "axs[0, 0].plot(t, P_gau[20, :])\n",
    "axs[0, 0].set_ylabel(r\"$P$ / mm\")\n",
    "\n",
    "axs[0, 1].set_title(\"Cut Gaussian\")\n",
    "axs[0, 1].plot(t, P_cut[20, :])\n",
    "\n",
    "axs[1, 0].set_title(\"Cut Gaussian Anamorphosis\")\n",
    "axs[1, 0].plot(t, P_ana[20, :])\n",
    "axs[1, 0].set_xlabel(r\"$t$ / d\")\n",
    "axs[1, 0].set_ylabel(r\"$P$ / mm\")\n",
    "\n",
    "axs[1, 1].set_title(\"Different Cross Section\")\n",
    "axs[1, 1].plot(t, P_ana[10, :])\n",
    "axs[1, 1].set_xlabel(r\"$t$ / d\")\n",
    "\n",
    "plt.tight_layout()\n",
    "\n",
    "fig, axs = plt.subplots(2, 2, sharex=True, sharey=True)\n",
    "\n",
    "axs[0, 0].set_title(\"Gaussian\")\n",
    "cont = axs[0, 0].contourf(t, x, P_gau, cmap=\"PuBu\", levels=10)\n",
    "cbar = fig.colorbar(cont, ax=axs[0, 0])\n",
    "cbar.ax.set_ylabel(r\"$P$ / mm\")\n",
    "axs[0, 0].set_ylabel(r\"$x$ / km\")\n",
    "\n",
    "axs[0, 1].set_title(\"Cut Gaussian\")\n",
    "cont = axs[0, 1].contourf(t, x, P_cut, cmap=\"PuBu\", levels=10)\n",
    "cbar = fig.colorbar(cont, ax=axs[0, 1])\n",
    "cbar.ax.set_ylabel(r\"$P$ / mm\")\n",
    "axs[0, 1].set_xlabel(r\"$t$ / d\")\n",
    "\n",
    "axs[1, 0].set_title(\"Cut Gaussian Anamorphosis\")\n",
    "cont = axs[1, 0].contourf(t, x, P_ana, cmap=\"PuBu\", levels=10)\n",
    "cbar = fig.colorbar(cont, ax=axs[1, 0])\n",
    "cbar.ax.set_ylabel(r\"$P$ / mm\")\n",
    "axs[1, 0].set_xlabel(r\"$t$ / d\")\n",
    "axs[1, 0].set_ylabel(r\"$x$ / km\")\n",
    "\n",
    "fig.delaxes(axs[1, 1])\n",
    "plt.tight_layout()\n",
    "plt.show()"
   ]
  }
 ],
 "metadata": {
  "kernelspec": {
   "display_name": "Python 3 (ipykernel)",
   "language": "python",
   "name": "python3"
  },
  "language_info": {
   "codemirror_mode": {
    "name": "ipython",
    "version": 3
   },
   "file_extension": ".py",
   "mimetype": "text/x-python",
   "name": "python",
   "nbconvert_exporter": "python",
   "pygments_lexer": "ipython3",
   "version": "3.9.12"
  }
 },
 "nbformat": 4,
 "nbformat_minor": 4
}
