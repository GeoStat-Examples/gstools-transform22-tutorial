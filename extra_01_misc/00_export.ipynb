{
 "cells": [
  {
   "cell_type": "markdown",
   "metadata": {},
   "source": [
    "\n",
    "# Exporting Fields\n",
    "\n",
    "GSTools provides simple exporting routines to convert generated fields to\n",
    "[VTK](https://vtk.org/) files.\n",
    "\n",
    "These can be viewed for example with [Paraview](https://www.paraview.org).\n"
   ]
  },
  {
   "cell_type": "code",
   "execution_count": null,
   "metadata": {
    "collapsed": false,
    "jupyter": {
     "outputs_hidden": false
    }
   },
   "outputs": [],
   "source": [
    "import gstools as gs\n",
    "\n",
    "x = y = range(100)\n",
    "model = gs.Gaussian(dim=2, var=1, len_scale=10)\n",
    "srf = gs.SRF(model)\n",
    "field = srf((x, y), mesh_type=\"structured\")\n",
    "srf.vtk_export(filename=\"field\")"
   ]
  },
  {
   "cell_type": "markdown",
   "metadata": {},
   "source": [
    "The result displayed with Paraview:\n",
    "\n",
    "<img src=\"https://raw.githubusercontent.com/GeoStat-Framework/GeoStat-Framework.github.io/master/img/paraview.png\" width=\"400px\" align=\"center\">\n",
    "\n"
   ]
  }
 ],
 "metadata": {
  "kernelspec": {
   "display_name": "Python 3 (ipykernel)",
   "language": "python",
   "name": "python3"
  },
  "language_info": {
   "codemirror_mode": {
    "name": "ipython",
    "version": 3
   },
   "file_extension": ".py",
   "mimetype": "text/x-python",
   "name": "python",
   "nbconvert_exporter": "python",
   "pygments_lexer": "ipython3",
   "version": "3.9.12"
  }
 },
 "nbformat": 4,
 "nbformat_minor": 4
}
