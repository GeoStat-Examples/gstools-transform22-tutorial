{
 "cells": [
  {
   "cell_type": "code",
   "execution_count": null,
   "metadata": {
    "collapsed": false,
    "jupyter": {
     "outputs_hidden": false
    }
   },
   "outputs": [],
   "source": [
    "%matplotlib widget\n",
    "import matplotlib.pyplot as plt\n",
    "plt.ioff()\n",
    "# turn of warnings\n",
    "import warnings\n",
    "warnings.filterwarnings('ignore')"
   ]
  },
  {
   "cell_type": "markdown",
   "metadata": {},
   "source": [
    "\n",
    "# Working with lat-lon random fields\n",
    "\n",
    "In this example, we demonstrate how to generate a random field on\n",
    "geographical coordinates.\n",
    "\n",
    "First we setup a model, with `latlon=True`, to get the associated\n",
    "Yadrenko model.\n",
    "\n",
    "In addition, we will use the earth radius provided by `EARTH_RADIUS`,\n",
    "to have a meaningful length scale in km.\n",
    "\n",
    "To generate the field, we simply pass `(lat, lon)` as the position tuple\n",
    "to the `SRF` class.\n"
   ]
  },
  {
   "cell_type": "code",
   "execution_count": null,
   "metadata": {
    "collapsed": false,
    "jupyter": {
     "outputs_hidden": false
    }
   },
   "outputs": [],
   "source": [
    "import gstools as gs\n",
    "\n",
    "model = gs.Gaussian(latlon=True, var=1, len_scale=777, rescale=gs.EARTH_RADIUS)\n",
    "\n",
    "lat = lon = range(-80, 81)\n",
    "srf = gs.SRF(model, seed=1234)\n",
    "field = srf.structured((lat, lon))\n",
    "srf.plot()"
   ]
  },
  {
   "cell_type": "markdown",
   "metadata": {},
   "source": [
    "This was easy as always! Now we can use this field to estimate the empirical\n",
    "variogram in order to prove, that the generated field has the correct\n",
    "geo-statistical properties.\n",
    "The `vario_estimate` routine also provides a `latlon` switch to\n",
    "indicate, that the given field is defined on geographical variables.\n",
    "\n",
    "As we will see, everthing went well... phew!"
   ]
  },
  {
   "cell_type": "code",
   "execution_count": null,
   "metadata": {
    "collapsed": false,
    "jupyter": {
     "outputs_hidden": false
    }
   },
   "outputs": [],
   "source": [
    "bin_edges = [0.01 * i for i in range(30)]\n",
    "bin_center, emp_vario = gs.vario_estimate(\n",
    "    (lat, lon),\n",
    "    field,\n",
    "    bin_edges,\n",
    "    latlon=True,\n",
    "    mesh_type=\"structured\",\n",
    "    sampling_size=2000,\n",
    "    sampling_seed=12345,\n",
    ")\n",
    "\n",
    "ax = model.plot(\"vario_yadrenko\", x_max=max(bin_center))\n",
    "model.fit_variogram(bin_center, emp_vario, nugget=False)\n",
    "model.plot(\"vario_yadrenko\", ax=ax, label=\"fitted\", x_max=max(bin_center))\n",
    "ax.scatter(bin_center, emp_vario, color=\"k\")\n",
    "print(model)"
   ]
  },
  {
   "cell_type": "markdown",
   "metadata": {},
   "source": [
    "## Note\n",
    "Note, that the estimated variogram coincides with the yadrenko variogram,\n",
    "which means it depends on the great-circle distance given in radians.\n",
    "\n",
    "Keep that in mind when defining bins: The range is at most\n",
    "$\\pi\\approx 3.14$, which corresponds to the half globe.</p></div>\n",
    "\n"
   ]
  }
 ],
 "metadata": {
  "kernelspec": {
   "display_name": "Python 3 (ipykernel)",
   "language": "python",
   "name": "python3"
  },
  "language_info": {
   "codemirror_mode": {
    "name": "ipython",
    "version": 3
   },
   "file_extension": ".py",
   "mimetype": "text/x-python",
   "name": "python",
   "nbconvert_exporter": "python",
   "pygments_lexer": "ipython3",
   "version": "3.9.12"
  }
 },
 "nbformat": 4,
 "nbformat_minor": 4
}
